{
  "nbformat": 4,
  "nbformat_minor": 0,
  "metadata": {
    "colab": {
      "provenance": [],
      "collapsed_sections": [
        "VNiVhc2zh8Oz",
        "fEQIprpvlE_L",
        "fZnb_z4g-IzB",
        "Y6oW1g82CHU6",
        "Uv37m7quOAkY",
        "FK-K6qPYgFXo",
        "UEN8Yh_kmYrr",
        "hN7qxTONqDXk"
      ]
    },
    "kernelspec": {
      "name": "python3",
      "display_name": "Python 3"
    },
    "language_info": {
      "name": "python"
    }
  },
  "cells": [
    {
      "cell_type": "markdown",
      "source": [
        "## **Functions in Python**"
      ],
      "metadata": {
        "id": "VNiVhc2zh8Oz"
      }
    },
    {
      "cell_type": "code",
      "execution_count": null,
      "metadata": {
        "colab": {
          "base_uri": "https://localhost:8080/"
        },
        "id": "vgCNyy3XhKVo",
        "outputId": "82eb3d85-6ef3-48e5-dc24-13b4f1aa2188"
      },
      "outputs": [
        {
          "output_type": "stream",
          "name": "stdout",
          "text": [
            "Sum:  30\n",
            "Diff:  -10\n",
            "Product:  200\n",
            "Remainder:  0.5\n"
          ]
        }
      ],
      "source": [
        "a = 10\n",
        "b = 20\n",
        "print(\"Sum: \", a+b)\n",
        "print(\"Diff: \", a-b)\n",
        "print(\"Product: \", a*b)\n",
        "print(\"Remainder: \", a/b)"
      ]
    },
    {
      "cell_type": "code",
      "source": [
        "def function():\n",
        "  print(\"hello from function\")\n",
        "\n",
        "function()"
      ],
      "metadata": {
        "colab": {
          "base_uri": "https://localhost:8080/"
        },
        "id": "LGyGDYbUhw3x",
        "outputId": "374d6100-42de-4015-a151-79d5ae92e7b4"
      },
      "execution_count": null,
      "outputs": [
        {
          "output_type": "stream",
          "name": "stdout",
          "text": [
            "hello from function\n"
          ]
        }
      ]
    },
    {
      "cell_type": "code",
      "source": [
        "def wish(name):\n",
        "  print(\"Hello\", name, \"Good Morning\")"
      ],
      "metadata": {
        "id": "hE9x0ey6h5-j"
      },
      "execution_count": null,
      "outputs": []
    },
    {
      "cell_type": "code",
      "source": [
        "wish('Saumya')"
      ],
      "metadata": {
        "colab": {
          "base_uri": "https://localhost:8080/"
        },
        "id": "GXCH9DTHid0C",
        "outputId": "c2c16080-5e37-4e28-85ed-1e9900056e25"
      },
      "execution_count": null,
      "outputs": [
        {
          "output_type": "stream",
          "name": "stdout",
          "text": [
            "Hello Saumya Good Morning\n"
          ]
        }
      ]
    },
    {
      "cell_type": "code",
      "source": [
        "def sq(num):\n",
        "  print(num**2)\n",
        "\n",
        "sq(10)"
      ],
      "metadata": {
        "colab": {
          "base_uri": "https://localhost:8080/"
        },
        "id": "jf3QS3qpim_x",
        "outputId": "a72e4879-14e8-429a-ea44-32b0f2bdd0eb"
      },
      "execution_count": null,
      "outputs": [
        {
          "output_type": "stream",
          "name": "stdout",
          "text": [
            "100\n"
          ]
        }
      ]
    },
    {
      "cell_type": "code",
      "source": [
        "def sq(num):\n",
        "  return num**2\n",
        "\n",
        "print(sq(10))"
      ],
      "metadata": {
        "colab": {
          "base_uri": "https://localhost:8080/"
        },
        "id": "GKnrWsWli1Bc",
        "outputId": "9502fa77-6f0c-4cfe-f18e-3c9b70e4465d"
      },
      "execution_count": null,
      "outputs": [
        {
          "output_type": "stream",
          "name": "stdout",
          "text": [
            "100\n"
          ]
        }
      ]
    },
    {
      "cell_type": "code",
      "source": [
        "def odd_even(n):\n",
        "  if n%2 == 0:\n",
        "    return True\n",
        "  else:\n",
        "    return False"
      ],
      "metadata": {
        "id": "7gCeqX95jhw0"
      },
      "execution_count": null,
      "outputs": []
    },
    {
      "cell_type": "code",
      "source": [
        "odd_even(7)"
      ],
      "metadata": {
        "colab": {
          "base_uri": "https://localhost:8080/"
        },
        "id": "Vyj529rHj_z0",
        "outputId": "353968f9-ee4c-403d-f10c-05717663329f"
      },
      "execution_count": null,
      "outputs": [
        {
          "output_type": "execute_result",
          "data": {
            "text/plain": [
              "False"
            ]
          },
          "metadata": {},
          "execution_count": 12
        }
      ]
    },
    {
      "cell_type": "code",
      "source": [
        "def add(a, b):\n",
        "  return a+b\n",
        "\n",
        "add(5,10)"
      ],
      "metadata": {
        "colab": {
          "base_uri": "https://localhost:8080/"
        },
        "id": "xGnRL2UMkA5I",
        "outputId": "9fba740d-e5ec-4553-9eee-d806ce308ebf"
      },
      "execution_count": null,
      "outputs": [
        {
          "output_type": "execute_result",
          "data": {
            "text/plain": [
              "15"
            ]
          },
          "metadata": {},
          "execution_count": 13
        }
      ]
    },
    {
      "cell_type": "markdown",
      "source": [
        "### **Types of Arguments in Python Functions**\n",
        "* Positional Arguments\n",
        "* Keyword Arguments\n",
        "* Default Arguments\n",
        "* Variable Length Arguments"
      ],
      "metadata": {
        "id": "fEQIprpvlE_L"
      }
    },
    {
      "cell_type": "code",
      "source": [
        "#positional arguments\n",
        "def sub(a, b):\n",
        "  return a-b\n",
        "\n",
        "sub(7,8)"
      ],
      "metadata": {
        "colab": {
          "base_uri": "https://localhost:8080/"
        },
        "id": "lLq9r8a4lTuV",
        "outputId": "08c422a9-a2c8-4650-9f32-0583d010a3b4"
      },
      "execution_count": null,
      "outputs": [
        {
          "output_type": "execute_result",
          "data": {
            "text/plain": [
              "-1"
            ]
          },
          "metadata": {},
          "execution_count": 14
        }
      ]
    },
    {
      "cell_type": "code",
      "source": [
        "sub(b = 8, a = 10) #Keyword Argument"
      ],
      "metadata": {
        "colab": {
          "base_uri": "https://localhost:8080/"
        },
        "id": "Aucx87VqlpxD",
        "outputId": "099ca7ed-f387-41d3-b9ee-fc24d88e27b4"
      },
      "execution_count": null,
      "outputs": [
        {
          "output_type": "execute_result",
          "data": {
            "text/plain": [
              "2"
            ]
          },
          "metadata": {},
          "execution_count": 16
        }
      ]
    },
    {
      "cell_type": "code",
      "source": [
        "def wish(name, msg):\n",
        "  print(\"Hello\", name, msg)\n",
        "\n",
        "wish(\"Saumya\", \"GM\")"
      ],
      "metadata": {
        "colab": {
          "base_uri": "https://localhost:8080/"
        },
        "id": "ycB46J3al7kR",
        "outputId": "fd218b5f-edaf-4d8f-b800-3f8485ef7f71"
      },
      "execution_count": null,
      "outputs": [
        {
          "output_type": "stream",
          "name": "stdout",
          "text": [
            "Hello Saumya GM\n"
          ]
        }
      ]
    },
    {
      "cell_type": "code",
      "source": [
        "wish(msg = \"GM\", name = \"Saumya\")"
      ],
      "metadata": {
        "colab": {
          "base_uri": "https://localhost:8080/"
        },
        "id": "HJfs3L-MnX3k",
        "outputId": "96fae225-ec5f-414f-d73f-7109458dc889"
      },
      "execution_count": null,
      "outputs": [
        {
          "output_type": "stream",
          "name": "stdout",
          "text": [
            "Hello Saumya GM\n"
          ]
        }
      ]
    },
    {
      "cell_type": "code",
      "source": [
        "wish(name = \"Saumya\", msg = \"GM\")"
      ],
      "metadata": {
        "colab": {
          "base_uri": "https://localhost:8080/"
        },
        "id": "h1TcW1NnncpZ",
        "outputId": "4f76285a-c7ee-4df5-a88b-f24b484b222a"
      },
      "execution_count": null,
      "outputs": [
        {
          "output_type": "stream",
          "name": "stdout",
          "text": [
            "Hello Saumya GM\n"
          ]
        }
      ]
    },
    {
      "cell_type": "code",
      "source": [
        "wish(\"GM\", name = \"saumya\")"
      ],
      "metadata": {
        "colab": {
          "base_uri": "https://localhost:8080/",
          "height": 176
        },
        "id": "SpKJuGfUnflT",
        "outputId": "2555cee6-d5cc-468f-e719-4411e28f09b4"
      },
      "execution_count": null,
      "outputs": [
        {
          "output_type": "error",
          "ename": "TypeError",
          "evalue": "ignored",
          "traceback": [
            "\u001b[0;31m---------------------------------------------------------------------------\u001b[0m",
            "\u001b[0;31mTypeError\u001b[0m                                 Traceback (most recent call last)",
            "\u001b[0;32m<ipython-input-20-37738618fe91>\u001b[0m in \u001b[0;36m<cell line: 1>\u001b[0;34m()\u001b[0m\n\u001b[0;32m----> 1\u001b[0;31m \u001b[0mwish\u001b[0m\u001b[0;34m(\u001b[0m\u001b[0;34m\"GM\"\u001b[0m\u001b[0;34m,\u001b[0m \u001b[0mname\u001b[0m \u001b[0;34m=\u001b[0m \u001b[0;34m\"saumya\"\u001b[0m\u001b[0;34m)\u001b[0m\u001b[0;34m\u001b[0m\u001b[0;34m\u001b[0m\u001b[0m\n\u001b[0m",
            "\u001b[0;31mTypeError\u001b[0m: wish() got multiple values for argument 'name'"
          ]
        }
      ]
    },
    {
      "cell_type": "code",
      "source": [
        "wish(msg = \"GM\", \"Saumya\")"
      ],
      "metadata": {
        "colab": {
          "base_uri": "https://localhost:8080/",
          "height": 141
        },
        "id": "coICCizRnjZn",
        "outputId": "9584b7f7-04bb-49a2-ea46-6da31b2ecf52"
      },
      "execution_count": null,
      "outputs": [
        {
          "output_type": "error",
          "ename": "SyntaxError",
          "evalue": "ignored",
          "traceback": [
            "\u001b[0;36m  File \u001b[0;32m\"<ipython-input-21-714cd260c585>\"\u001b[0;36m, line \u001b[0;32m1\u001b[0m\n\u001b[0;31m    wish(msg = \"GM\", \"Saumya\")\u001b[0m\n\u001b[0m                             ^\u001b[0m\n\u001b[0;31mSyntaxError\u001b[0m\u001b[0;31m:\u001b[0m positional argument follows keyword argument\n"
          ]
        }
      ]
    },
    {
      "cell_type": "code",
      "source": [
        "#default arguments\n",
        "def sum(a = 8, b = 90):\n",
        "  return a+b\n",
        "\n",
        "print(sum())\n",
        "sum(6,8)"
      ],
      "metadata": {
        "colab": {
          "base_uri": "https://localhost:8080/"
        },
        "id": "jxyKpsI2nn5m",
        "outputId": "6f6f753c-636c-4bab-89aa-3aaa5adc3fe4"
      },
      "execution_count": null,
      "outputs": [
        {
          "output_type": "stream",
          "name": "stdout",
          "text": [
            "98\n"
          ]
        },
        {
          "output_type": "execute_result",
          "data": {
            "text/plain": [
              "14"
            ]
          },
          "metadata": {},
          "execution_count": 23
        }
      ]
    },
    {
      "cell_type": "code",
      "source": [
        "#for loop\n",
        "sum = 0\n",
        "for i in range(10+1):\n",
        "  sum+=i\n",
        "\n",
        "print(sum)"
      ],
      "metadata": {
        "colab": {
          "base_uri": "https://localhost:8080/"
        },
        "id": "bldC05oFovGc",
        "outputId": "814e995f-951d-4efb-fe40-65435925dfb4"
      },
      "execution_count": null,
      "outputs": [
        {
          "output_type": "stream",
          "name": "stdout",
          "text": [
            "55\n"
          ]
        }
      ]
    },
    {
      "cell_type": "code",
      "source": [
        "#Variable Length Arguments\n",
        "\n",
        "def sum(*args):\n",
        "  sum = 0\n",
        "  for i in args:\n",
        "    sum += i;\n",
        "  return sum\n",
        "\n",
        "sum(10,20, 50, 50,80)"
      ],
      "metadata": {
        "colab": {
          "base_uri": "https://localhost:8080/"
        },
        "id": "5FXV-CbEo_gR",
        "outputId": "2227968f-2966-4df6-85ef-15b758ceafdf"
      },
      "execution_count": null,
      "outputs": [
        {
          "output_type": "execute_result",
          "data": {
            "text/plain": [
              "210"
            ]
          },
          "metadata": {},
          "execution_count": 27
        }
      ]
    },
    {
      "cell_type": "code",
      "source": [
        "#Keyword Variable Length argument\n",
        "\n",
        "def info(**kwargs):\n",
        "  for key, value in kwargs.items():\n",
        "    print(key,\" : \" ,value)\n",
        "\n",
        "\n",
        "info(Name = \"Saumya\", Age = 30, City = \"Delhi\")\n"
      ],
      "metadata": {
        "colab": {
          "base_uri": "https://localhost:8080/"
        },
        "id": "Sc2z3BkJp4gp",
        "outputId": "cb659d9c-2fc8-4776-ba8b-502f8aa50815"
      },
      "execution_count": null,
      "outputs": [
        {
          "output_type": "stream",
          "name": "stdout",
          "text": [
            "Name  :  Saumya\n",
            "Age  :  30\n",
            "City  :  Delhi\n"
          ]
        }
      ]
    },
    {
      "cell_type": "code",
      "source": [
        "def person(name, **kwargs):\n",
        "  print(\"Name : \", name)\n",
        "\n",
        "  for key, value in kwargs.items():\n",
        "    print(key, value)\n",
        "\n",
        "\n",
        "person(\"Amit\", age = 30, pin = 770077, city = \"Delhi\")"
      ],
      "metadata": {
        "colab": {
          "base_uri": "https://localhost:8080/"
        },
        "id": "3o9v-CF9s-Wk",
        "outputId": "7456f135-d0f7-45a0-cb6c-92954def4a09"
      },
      "execution_count": null,
      "outputs": [
        {
          "output_type": "stream",
          "name": "stdout",
          "text": [
            "Name :  Amit\n",
            "age 30\n",
            "pin 770077\n",
            "city Delhi\n"
          ]
        }
      ]
    },
    {
      "cell_type": "code",
      "source": [],
      "metadata": {
        "id": "jXpCY8qYvlTf"
      },
      "execution_count": null,
      "outputs": []
    },
    {
      "cell_type": "markdown",
      "source": [
        "### **Question**\n",
        "\n",
        "**Task: Oil and Gas Equipment and Drilling Site Management System**\n",
        "\n",
        "You are tasked with developing a Python program for an oil and gas company to manage their drilling equipment and drilling sites. The program should use *args and **kwargs to provide flexibility in adding and searching for equipment and sites. Here are the tasks you need to complete:\n",
        "Create a Python script that defines empty lists for drilling equipment and drilling sites.\n",
        "\n",
        "Implement a function add_equipment that takes the following parameters:\n",
        "\n",
        "* equipment_type (string): The type of equipment being added.\n",
        "* *args (tuple): Additional details about the equipment (e.g., model, power, capacity).\n",
        "* **kwargs (dictionary): Additional attributes of the equipment (e.g., vendor, power source).\n",
        "\n",
        "The function should create a dictionary representing the equipment, including its type, details (from *args), and attributes (from **kwargs). Then, it should append this dictionary to the drilling_equipment list."
      ],
      "metadata": {
        "id": "gQM8fnyjwXbB"
      }
    },
    {
      "cell_type": "code",
      "source": [
        "drilling_equipments = []\n",
        "drilling_sites = []\n",
        "\n",
        "def add_equipments(equipment_type, *args, **kwargs):\n",
        "  equipment_details = {}\n",
        "  equipment_details['equipment_type'] = equipment_type\n",
        "  equipment_details['details'] = args\n",
        "  equipment_details['attributes'] = {}\n",
        "  for key, val in kwargs.items():\n",
        "    # print(key, val)\n",
        "    equipment_details['attributes'][key] = val\n",
        "  # equipment_details['attributes'] = kwargs\n",
        "\n",
        "  drilling_equipments = equipment_details\n",
        "  print(drilling_equipments)\n",
        "\n"
      ],
      "metadata": {
        "id": "5KdNTyr4wZFy"
      },
      "execution_count": null,
      "outputs": []
    },
    {
      "cell_type": "code",
      "source": [
        "add_equipments('Drill', 'Model X', '2000 HP', capacity='High', vendor='ABC Inc', power_source='Electric')\n",
        "add_equipments('Pump', 'Model Y', '1000 HP', capacity='Medium', vendor='XYZ Corp', power_source='Diesel')\n"
      ],
      "metadata": {
        "colab": {
          "base_uri": "https://localhost:8080/"
        },
        "id": "np9V4Bb2xmlv",
        "outputId": "e9ae07a6-b065-4ed5-f9ec-d464dc85910f"
      },
      "execution_count": null,
      "outputs": [
        {
          "output_type": "stream",
          "name": "stdout",
          "text": [
            "{'equipment_type': 'Drill', 'details': ('Model X', '2000 HP'), 'attributes': {'capacity': 'High', 'vendor': 'ABC Inc', 'power_source': 'Electric'}}\n",
            "{'equipment_type': 'Pump', 'details': ('Model Y', '1000 HP'), 'attributes': {'capacity': 'Medium', 'vendor': 'XYZ Corp', 'power_source': 'Diesel'}}\n"
          ]
        }
      ]
    },
    {
      "cell_type": "code",
      "source": [],
      "metadata": {
        "id": "84caPHl6yAh2"
      },
      "execution_count": null,
      "outputs": []
    },
    {
      "cell_type": "markdown",
      "source": [
        "### **Question 1(b)**\n",
        "\n",
        "Implement a function add_drilling_site with similar parameters:\n",
        "\n",
        "site_name (string): The name of the drilling site being added.\n",
        "\n",
        "*args (tuple): Additional details about the site (e.g., location, depth, terrain).\n",
        "\n",
        "**kwargs (dictionary): Additional attributes of the site (e.g., status, operator).\n",
        "\n",
        "The function should create a dictionary representing the site, including its name, details (from *args), and attributes (from **kwargs). Then, it should append this dictionary to the drilling_sites list.**"
      ],
      "metadata": {
        "id": "bcSLRPJG6_ek"
      }
    },
    {
      "cell_type": "code",
      "source": [
        "def add_drilling_site(site_name, *args, **kwargs):\n",
        "  drilling_site_info = {\n",
        "      'Name':site_name,\n",
        "      'Details': args,\n",
        "      'Attributes': kwargs\n",
        "  }\n",
        "\n",
        "  drilling_sites.append(drilling_site_info)\n",
        "  print(drilling_sites)\n",
        "\n",
        "\n",
        "add_drilling_site('Drill', 'Location X', '2000m', status='Working', Operator='ABC Inc',)\n"
      ],
      "metadata": {
        "colab": {
          "base_uri": "https://localhost:8080/"
        },
        "id": "eStmAcd7zlK_",
        "outputId": "35ca6bc9-c450-4fd7-a57e-f8646354f698"
      },
      "execution_count": null,
      "outputs": [
        {
          "output_type": "stream",
          "name": "stdout",
          "text": [
            "[{'Name': 'Drill', 'Details': ('Location X', '2000m'), 'Attributes': {'status': 'Working', 'Operator': 'ABC Inc'}}]\n"
          ]
        }
      ]
    },
    {
      "cell_type": "code",
      "source": [],
      "metadata": {
        "id": "O9JRCcaC8oJV"
      },
      "execution_count": null,
      "outputs": []
    },
    {
      "cell_type": "markdown",
      "source": [
        "## **Recursive Functions**\n",
        "* Function that calls itself is called as a recursive function."
      ],
      "metadata": {
        "id": "fZnb_z4g-IzB"
      }
    },
    {
      "cell_type": "code",
      "source": [
        "def fact(n):\n",
        "  if n == 1 or n == 0:\n",
        "    return 1\n",
        "\n",
        "  if n>1:\n",
        "    return n*fact(n-1)\n",
        "\n",
        "fact(1)"
      ],
      "metadata": {
        "colab": {
          "base_uri": "https://localhost:8080/"
        },
        "id": "fypEPl0I-QiU",
        "outputId": "76b2a5a9-9a2a-447e-a9f4-8d8777d9c2f0"
      },
      "execution_count": null,
      "outputs": [
        {
          "output_type": "execute_result",
          "data": {
            "text/plain": [
              "1"
            ]
          },
          "metadata": {},
          "execution_count": 63
        }
      ]
    },
    {
      "cell_type": "code",
      "source": [
        "fact(5)"
      ],
      "metadata": {
        "colab": {
          "base_uri": "https://localhost:8080/"
        },
        "id": "2NWOybGa-o6d",
        "outputId": "cbf85e08-9816-4de4-f1ef-2d58a311f5f7"
      },
      "execution_count": null,
      "outputs": [
        {
          "output_type": "execute_result",
          "data": {
            "text/plain": [
              "120"
            ]
          },
          "metadata": {},
          "execution_count": 65
        }
      ]
    },
    {
      "cell_type": "code",
      "source": [
        "def fibo(n):\n",
        "  if n<=1:\n",
        "    return 1\n",
        "  else:\n",
        "    return fibo(n-1) + fibo(n-2)\n",
        "\n",
        "fibo(10)"
      ],
      "metadata": {
        "colab": {
          "base_uri": "https://localhost:8080/"
        },
        "id": "eBK3wsL6BXfG",
        "outputId": "b9a87d66-7255-4f4b-d01c-d7784449ea21"
      },
      "execution_count": null,
      "outputs": [
        {
          "output_type": "execute_result",
          "data": {
            "text/plain": [
              "89"
            ]
          },
          "metadata": {},
          "execution_count": 90
        }
      ]
    },
    {
      "cell_type": "code",
      "source": [
        "# 0 1 1 2 3 5 8 13\n",
        "\n",
        "def fibo(n):\n",
        "  num1 = 0\n",
        "  num2 = 1\n",
        "  next_number = num2\n",
        "  count = 1\n",
        "\n",
        "  while count <= n:\n",
        "      print(next_number, end=\" \")\n",
        "      count += 1\n",
        "      num1, num2 = num2, next_number\n",
        "      next_number = num1 + num2\n",
        "  print()\n",
        "\n",
        "fibo(10)"
      ],
      "metadata": {
        "colab": {
          "base_uri": "https://localhost:8080/"
        },
        "id": "4F9KHKTq-qS2",
        "outputId": "b8f92149-2d43-4741-8034-bc73f0767761"
      },
      "execution_count": null,
      "outputs": [
        {
          "output_type": "stream",
          "name": "stdout",
          "text": [
            "1 2 3 5 8 13 21 34 55 89 \n"
          ]
        }
      ]
    },
    {
      "cell_type": "code",
      "source": [],
      "metadata": {
        "id": "szN9APYO_Vvp"
      },
      "execution_count": null,
      "outputs": []
    },
    {
      "cell_type": "markdown",
      "source": [
        "## **Decorator Functions**"
      ],
      "metadata": {
        "id": "Y6oW1g82CHU6"
      }
    },
    {
      "cell_type": "code",
      "source": [
        "def div(a, b):\n",
        "  if a<b:\n",
        "    a, b = b, a     #Swapping the numbers -> To make numerator>denominator\n",
        "\n",
        "  c = a/b\n",
        "  return c\n",
        "\n",
        "print(div(10, 5))\n",
        "div(5, 10)\n"
      ],
      "metadata": {
        "colab": {
          "base_uri": "https://localhost:8080/"
        },
        "id": "Ti0F132xCLDO",
        "outputId": "1a1be102-deec-4236-ba5a-edc3890932d2"
      },
      "execution_count": null,
      "outputs": [
        {
          "output_type": "stream",
          "name": "stdout",
          "text": [
            "2.0\n"
          ]
        },
        {
          "output_type": "execute_result",
          "data": {
            "text/plain": [
              "2.0"
            ]
          },
          "metadata": {},
          "execution_count": 94
        }
      ]
    },
    {
      "cell_type": "code",
      "source": [
        "def og_div(a, b):\n",
        "  return a/b\n",
        "\n",
        "og_div(5,10)"
      ],
      "metadata": {
        "colab": {
          "base_uri": "https://localhost:8080/"
        },
        "id": "IXIMCKiHDJeJ",
        "outputId": "71ad5eb0-a0dc-4921-e43d-c5568c6ebd93"
      },
      "execution_count": null,
      "outputs": [
        {
          "output_type": "execute_result",
          "data": {
            "text/plain": [
              "0.5"
            ]
          },
          "metadata": {},
          "execution_count": 95
        }
      ]
    },
    {
      "cell_type": "code",
      "source": [
        "def smart_div(func):\n",
        "  def inner(a,b):\n",
        "    if a<b:\n",
        "      a, b = b, a\n",
        "    return func(a,b)\n",
        "  return inner\n",
        "\n",
        "res = smart_div(og_div)\n",
        "\n"
      ],
      "metadata": {
        "id": "GIiLC1-7EXwy"
      },
      "execution_count": null,
      "outputs": []
    },
    {
      "cell_type": "code",
      "source": [
        "res(10, 5)"
      ],
      "metadata": {
        "colab": {
          "base_uri": "https://localhost:8080/"
        },
        "id": "2La1jobBE1B2",
        "outputId": "52d31b58-6857-4969-c85c-a2f73159ab67"
      },
      "execution_count": null,
      "outputs": [
        {
          "output_type": "execute_result",
          "data": {
            "text/plain": [
              "2.0"
            ]
          },
          "metadata": {},
          "execution_count": 98
        }
      ]
    },
    {
      "cell_type": "code",
      "source": [
        "res(5,10)"
      ],
      "metadata": {
        "colab": {
          "base_uri": "https://localhost:8080/"
        },
        "id": "P8tbjjQ9FA1B",
        "outputId": "84e8011c-95ec-4310-b369-0e07ed0b9319"
      },
      "execution_count": null,
      "outputs": [
        {
          "output_type": "execute_result",
          "data": {
            "text/plain": [
              "2.0"
            ]
          },
          "metadata": {},
          "execution_count": 99
        }
      ]
    },
    {
      "cell_type": "code",
      "source": [
        "def wish(name):\n",
        "  print(\"Hello\", name, \"Good Morning\")\n",
        "\n",
        "wish('steve')\n",
        "wish('John')\n",
        "wish('Robert')"
      ],
      "metadata": {
        "colab": {
          "base_uri": "https://localhost:8080/"
        },
        "id": "heEYONBJFELr",
        "outputId": "10af27e4-45a9-4cb5-ac3c-dc149de159da"
      },
      "execution_count": null,
      "outputs": [
        {
          "output_type": "stream",
          "name": "stdout",
          "text": [
            "Hello steve Good Morning\n",
            "Hello John Good Morning\n",
            "Hello Robert Good Morning\n"
          ]
        }
      ]
    },
    {
      "cell_type": "code",
      "source": [
        "def smart_wish(func):\n",
        "  def inner(name):\n",
        "    if name == 'Robert':\n",
        "      print(\"Hello\", name, \"Bad Morning\")\n",
        "    else:\n",
        "      func(name)\n",
        "  return inner\n",
        "\n",
        "res = smart_wish(wish)"
      ],
      "metadata": {
        "id": "llbXsuNVF-Sb"
      },
      "execution_count": null,
      "outputs": []
    },
    {
      "cell_type": "code",
      "source": [
        "res(\"Robert\")\n",
        "res(\"Saumya\")"
      ],
      "metadata": {
        "colab": {
          "base_uri": "https://localhost:8080/"
        },
        "id": "FFg65CO6GXxP",
        "outputId": "2efa93f7-4ae1-4d6e-e84f-6b83b9ffa4b3"
      },
      "execution_count": null,
      "outputs": [
        {
          "output_type": "stream",
          "name": "stdout",
          "text": [
            "Hello Robert Bad Morning\n",
            "Hello Saumya Good Morning\n"
          ]
        }
      ]
    },
    {
      "cell_type": "markdown",
      "source": [
        "### **Question**\n",
        "Task: Logging Decorator\n",
        "\n",
        "\n",
        "\n",
        "You are tasked with creating a decorator function called log_function_call that logs when a function is called, along with its arguments, and the result of the function call. You will apply this decorator to two functions.\n",
        "\n",
        "\n",
        "\n",
        "Implement a decorator function called log_function_call that takes a function as an argument and wraps it. Inside the decorator, log the function's name, its arguments, and the result of the function call. You can use the logging module for logging.\n",
        "\n",
        "\n",
        "\n",
        "Create two functions:\n",
        "\n",
        "\n",
        "\n",
        "add(a, b): This function takes two integers, a and b, as arguments and returns their sum.\n",
        "multiply(a, b): This function takes two integers, a and b, as arguments and returns their product.\n",
        "Apply the log_function_call decorator to both the add and multiply functions.\n",
        "\n",
        "Call the decorated add and multiply functions with different arguments to verify that the decorator logs the function calls and results correctly."
      ],
      "metadata": {
        "id": "rkc0zBiXJyO-"
      }
    },
    {
      "cell_type": "code",
      "source": [
        "def add(a, b):\n",
        "  return a+b\n",
        "\n",
        "def multiply(a, b):\n",
        "  return a*b"
      ],
      "metadata": {
        "id": "ZGd_-XpVHGV3"
      },
      "execution_count": null,
      "outputs": []
    },
    {
      "cell_type": "code",
      "source": [
        "def log_function_call(func):\n",
        "  def inner(a, b):\n",
        "    return add(a,b)\n",
        "  return inner\n",
        "\n",
        "\n",
        "res = log_function_call(add)\n"
      ],
      "metadata": {
        "id": "J3LfbYfVLSMW"
      },
      "execution_count": null,
      "outputs": []
    },
    {
      "cell_type": "code",
      "source": [
        "res(5,10)"
      ],
      "metadata": {
        "colab": {
          "base_uri": "https://localhost:8080/"
        },
        "id": "gkurbOvRMYO2",
        "outputId": "96b01c1e-c7ff-4882-d7ed-7f8f1cdf9544"
      },
      "execution_count": null,
      "outputs": [
        {
          "output_type": "execute_result",
          "data": {
            "text/plain": [
              "15"
            ]
          },
          "metadata": {},
          "execution_count": 114
        }
      ]
    },
    {
      "cell_type": "code",
      "source": [
        "def log_function_call(func):\n",
        "  def inner(a, b):\n",
        "    return multiply(a,b)\n",
        "  return inner\n",
        "\n",
        "\n",
        "res2 = log_function_call(multiply)\n",
        "res2(3,88)"
      ],
      "metadata": {
        "colab": {
          "base_uri": "https://localhost:8080/"
        },
        "id": "X9kMlqMDMdiu",
        "outputId": "5bdd2f2d-c18c-4150-9873-8a81ca4107fc"
      },
      "execution_count": null,
      "outputs": [
        {
          "output_type": "execute_result",
          "data": {
            "text/plain": [
              "264"
            ]
          },
          "metadata": {},
          "execution_count": 115
        }
      ]
    },
    {
      "cell_type": "code",
      "source": [],
      "metadata": {
        "id": "PzID4MhoMk5j"
      },
      "execution_count": null,
      "outputs": []
    },
    {
      "cell_type": "markdown",
      "source": [
        "## **Generator Function**\n",
        "* A generator function uses yield keyword to yield a sequence of values once at a time, instead of returning all at a time.\n"
      ],
      "metadata": {
        "id": "Uv37m7quOAkY"
      }
    },
    {
      "cell_type": "code",
      "source": [
        "def count_up_to(n):\n",
        "  i = 1\n",
        "  while i<=n:\n",
        "    yield i\n",
        "    i = i+1\n",
        "\n",
        "res = count_up_to(10)"
      ],
      "metadata": {
        "id": "J7GZwsxIOFoP"
      },
      "execution_count": null,
      "outputs": []
    },
    {
      "cell_type": "code",
      "source": [
        "print(next(res))\n",
        "print(next(res))\n",
        "print(next(res))\n",
        "print(next(res))\n",
        "print(next(res))\n",
        "print(next(res))"
      ],
      "metadata": {
        "colab": {
          "base_uri": "https://localhost:8080/"
        },
        "id": "EZAaMTgmOsBb",
        "outputId": "a4d23d07-1560-46d6-ca46-433e5c072dc5"
      },
      "execution_count": null,
      "outputs": [
        {
          "output_type": "stream",
          "name": "stdout",
          "text": [
            "1\n",
            "2\n",
            "3\n",
            "4\n",
            "5\n",
            "6\n"
          ]
        }
      ]
    },
    {
      "cell_type": "code",
      "source": [
        "for i in res:\n",
        "  print(i)"
      ],
      "metadata": {
        "colab": {
          "base_uri": "https://localhost:8080/"
        },
        "id": "EaOikoWGOtWC",
        "outputId": "6f808f87-93c4-423b-ce04-af5d39f9d88f"
      },
      "execution_count": null,
      "outputs": [
        {
          "output_type": "stream",
          "name": "stdout",
          "text": [
            "1\n",
            "2\n",
            "3\n",
            "4\n",
            "5\n",
            "6\n",
            "7\n",
            "8\n",
            "9\n",
            "10\n"
          ]
        }
      ]
    },
    {
      "cell_type": "code",
      "source": [],
      "metadata": {
        "id": "-xTxaOTKPg5o"
      },
      "execution_count": null,
      "outputs": []
    },
    {
      "cell_type": "markdown",
      "source": [
        "Generate fibonacci numbers using generator functions"
      ],
      "metadata": {
        "id": "sOX0PD87QAzA"
      }
    },
    {
      "cell_type": "code",
      "source": [
        "def fibonacci_generator(limit):\n",
        "    a, b = 0, 1\n",
        "    count = 0\n",
        "    while count < limit:\n",
        "        yield a\n",
        "        a, b = b, a + b\n",
        "        count += 1\n",
        "\n",
        "fibo = fibonacci_generator(10)\n",
        "\n",
        "for num in fibo:\n",
        "    print(num)\n",
        "\n"
      ],
      "metadata": {
        "colab": {
          "base_uri": "https://localhost:8080/"
        },
        "id": "g4cgQRPGQE0G",
        "outputId": "f7a170e5-c6da-4c20-d8b8-532711362429"
      },
      "execution_count": null,
      "outputs": [
        {
          "output_type": "stream",
          "name": "stdout",
          "text": [
            "0\n",
            "1\n",
            "1\n",
            "2\n",
            "3\n",
            "5\n",
            "8\n",
            "13\n",
            "21\n",
            "34\n"
          ]
        }
      ]
    },
    {
      "cell_type": "code",
      "source": [],
      "metadata": {
        "id": "BSPHH8WSQOOa"
      },
      "execution_count": null,
      "outputs": []
    },
    {
      "cell_type": "markdown",
      "source": [
        "## **List Comprehension**"
      ],
      "metadata": {
        "id": "FK-K6qPYgFXo"
      }
    },
    {
      "cell_type": "code",
      "source": [
        "# list = [expression for items in list if condition]\n",
        "\n",
        "n = [1, 2, 3,4,5]\n",
        "sq = [i**2 for i in n]"
      ],
      "metadata": {
        "id": "YnVznWAigbB_"
      },
      "execution_count": null,
      "outputs": []
    },
    {
      "cell_type": "code",
      "source": [
        "sq = [i**2 for i in range(1,11)]\n",
        "sq"
      ],
      "metadata": {
        "colab": {
          "base_uri": "https://localhost:8080/"
        },
        "id": "QoKNE5Pfg6qN",
        "outputId": "ef90f9c3-4978-42ba-ccd1-e05c3157fc8f"
      },
      "execution_count": null,
      "outputs": [
        {
          "output_type": "execute_result",
          "data": {
            "text/plain": [
              "[1, 4, 9, 16, 25, 36, 49, 64, 81, 100]"
            ]
          },
          "metadata": {},
          "execution_count": 144
        }
      ]
    },
    {
      "cell_type": "code",
      "source": [
        "nos = [1,2,3,4,5,6,7,8,9]\n",
        "even = [i for i in nos if i%2==0]\n",
        "even"
      ],
      "metadata": {
        "colab": {
          "base_uri": "https://localhost:8080/"
        },
        "id": "HXATESxzhBec",
        "outputId": "4d25a194-d611-4296-b7e3-e0379d962b27"
      },
      "execution_count": null,
      "outputs": [
        {
          "output_type": "execute_result",
          "data": {
            "text/plain": [
              "[2, 4, 6, 8]"
            ]
          },
          "metadata": {},
          "execution_count": 145
        }
      ]
    },
    {
      "cell_type": "code",
      "source": [
        "list_of_words = [\"Python\", \"AWS\", \"Azure\", \"Power BI\"]\n",
        "letters = [word[0] for word in list_of_words]\n",
        "letters"
      ],
      "metadata": {
        "colab": {
          "base_uri": "https://localhost:8080/"
        },
        "id": "jouwdyqxhnzb",
        "outputId": "424a3f29-e3f3-4908-89c3-9dd8c6f9ade8"
      },
      "execution_count": null,
      "outputs": [
        {
          "output_type": "execute_result",
          "data": {
            "text/plain": [
              "['P', 'A', 'A', 'P']"
            ]
          },
          "metadata": {},
          "execution_count": 149
        }
      ]
    },
    {
      "cell_type": "code",
      "source": [
        "words = [\"python\", 'sql','azure','power BI','databricks']\n",
        "uppercase = [word[0].upper()+word[1:] for word in words]\n",
        "uppercase"
      ],
      "metadata": {
        "colab": {
          "base_uri": "https://localhost:8080/"
        },
        "id": "2GLEEIcxjEaw",
        "outputId": "1a98692c-559b-44ef-8ff3-36bc223af4e6"
      },
      "execution_count": null,
      "outputs": [
        {
          "output_type": "execute_result",
          "data": {
            "text/plain": [
              "['Python', 'Sql', 'Azure', 'Power BI', 'Databricks']"
            ]
          },
          "metadata": {},
          "execution_count": 153
        }
      ]
    },
    {
      "cell_type": "code",
      "source": [
        "words = \"the quick brown fox jumps over the lazy dogs\"\n",
        "l = words.split(\" \")\n",
        "l"
      ],
      "metadata": {
        "colab": {
          "base_uri": "https://localhost:8080/"
        },
        "id": "dVTPoRdXjr0e",
        "outputId": "07f9f09b-df98-4864-cffd-14e0d99ead3b"
      },
      "execution_count": null,
      "outputs": [
        {
          "output_type": "execute_result",
          "data": {
            "text/plain": [
              "['the', 'quick', 'brown', 'fox', 'jumps', 'over', 'the', 'lazy', 'dogs']"
            ]
          },
          "metadata": {},
          "execution_count": 154
        }
      ]
    },
    {
      "cell_type": "code",
      "source": [
        "res = [[word.upper(), len(word)] for word in l]"
      ],
      "metadata": {
        "id": "QLj4rMmbkrVn"
      },
      "execution_count": null,
      "outputs": []
    },
    {
      "cell_type": "code",
      "source": [
        "res"
      ],
      "metadata": {
        "colab": {
          "base_uri": "https://localhost:8080/"
        },
        "id": "Dp2Y9AOek1jI",
        "outputId": "5debfcf1-d43f-45bd-ee79-379d6dd0c8af"
      },
      "execution_count": null,
      "outputs": [
        {
          "output_type": "execute_result",
          "data": {
            "text/plain": [
              "[['THE', 3],\n",
              " ['QUICK', 5],\n",
              " ['BROWN', 5],\n",
              " ['FOX', 3],\n",
              " ['JUMPS', 5],\n",
              " ['OVER', 4],\n",
              " ['THE', 3],\n",
              " ['LAZY', 4],\n",
              " ['DOGS', 4]]"
            ]
          },
          "metadata": {},
          "execution_count": 159
        }
      ]
    },
    {
      "cell_type": "code",
      "source": [],
      "metadata": {
        "id": "eV4tRRjHk45H"
      },
      "execution_count": null,
      "outputs": []
    },
    {
      "cell_type": "markdown",
      "source": [
        "## **Lambda Function/Anonymous Function**\n",
        "  * Has no name for the function"
      ],
      "metadata": {
        "id": "UEN8Yh_kmYrr"
      }
    },
    {
      "cell_type": "code",
      "source": [
        "f = lambda i:i*i\n",
        "f(4)"
      ],
      "metadata": {
        "colab": {
          "base_uri": "https://localhost:8080/"
        },
        "id": "Ipb3HqkcmepS",
        "outputId": "7aa441a9-8009-4590-af0e-67f69ec3a13b"
      },
      "execution_count": null,
      "outputs": [
        {
          "output_type": "execute_result",
          "data": {
            "text/plain": [
              "16"
            ]
          },
          "metadata": {},
          "execution_count": 161
        }
      ]
    },
    {
      "cell_type": "code",
      "source": [
        "f = lambda a, b:a+b\n",
        "f(3,5)"
      ],
      "metadata": {
        "colab": {
          "base_uri": "https://localhost:8080/"
        },
        "id": "gwSPoAONm94z",
        "outputId": "21537ca8-57a9-45c6-ed64-3f1a41243274"
      },
      "execution_count": null,
      "outputs": [
        {
          "output_type": "execute_result",
          "data": {
            "text/plain": [
              "8"
            ]
          },
          "metadata": {},
          "execution_count": 162
        }
      ]
    },
    {
      "cell_type": "code",
      "source": [
        "f = lambda a,b,c : a*b*c\n",
        "f(3,5,8)"
      ],
      "metadata": {
        "colab": {
          "base_uri": "https://localhost:8080/"
        },
        "id": "dymCkJhnndE4",
        "outputId": "0a8ffea0-3382-4bb7-f0e8-25d6d690d3c2"
      },
      "execution_count": null,
      "outputs": [
        {
          "output_type": "execute_result",
          "data": {
            "text/plain": [
              "120"
            ]
          },
          "metadata": {},
          "execution_count": 165
        }
      ]
    },
    {
      "cell_type": "code",
      "source": [
        "f = lambda a,b: a if a>b else b\n",
        "f(9,80)"
      ],
      "metadata": {
        "colab": {
          "base_uri": "https://localhost:8080/"
        },
        "id": "n1YojQNbny8h",
        "outputId": "e49b80e0-7d7d-4592-ea5a-ec5f0c9351b5"
      },
      "execution_count": null,
      "outputs": [
        {
          "output_type": "execute_result",
          "data": {
            "text/plain": [
              "80"
            ]
          },
          "metadata": {},
          "execution_count": 169
        }
      ]
    },
    {
      "cell_type": "markdown",
      "source": [
        "## **Filter, Map, Reduce functions**"
      ],
      "metadata": {
        "id": "hN7qxTONqDXk"
      }
    },
    {
      "cell_type": "markdown",
      "source": [
        "### **Filter()**"
      ],
      "metadata": {
        "id": "TkjM9tUCtQbP"
      }
    },
    {
      "cell_type": "code",
      "source": [
        "def oddEven(n):\n",
        "  if n % 2 == 0:\n",
        "    return True\n",
        "  else:\n",
        "    return False\n",
        "\n",
        "\n",
        "l = [0,2,3,4,5,6,7,8]\n",
        "\n",
        "res = list(filter(oddEven, l))\n",
        "print(res)"
      ],
      "metadata": {
        "colab": {
          "base_uri": "https://localhost:8080/"
        },
        "id": "4JfFSKWzqA7P",
        "outputId": "41750865-9489-479d-d818-b6cc3a2b092f"
      },
      "execution_count": null,
      "outputs": [
        {
          "output_type": "stream",
          "name": "stdout",
          "text": [
            "[0, 2, 4, 6, 8]\n"
          ]
        }
      ]
    },
    {
      "cell_type": "code",
      "source": [
        "res_new = list(filter(lambda x: x%2==0, l))\n",
        "res_new"
      ],
      "metadata": {
        "colab": {
          "base_uri": "https://localhost:8080/"
        },
        "id": "WcB13NF8qZBa",
        "outputId": "3152b259-b8ed-4c3f-e99e-9ad9d86a45d7"
      },
      "execution_count": null,
      "outputs": [
        {
          "output_type": "execute_result",
          "data": {
            "text/plain": [
              "[0, 2, 4, 6, 8]"
            ]
          },
          "metadata": {},
          "execution_count": 179
        }
      ]
    },
    {
      "cell_type": "code",
      "source": [],
      "metadata": {
        "id": "uuiS3BKkr04S"
      },
      "execution_count": null,
      "outputs": []
    },
    {
      "cell_type": "markdown",
      "source": [
        "### **Map()**"
      ],
      "metadata": {
        "id": "u-pBnbMLtTqH"
      }
    },
    {
      "cell_type": "code",
      "source": [
        "l = [10,11,12,14,15]\n",
        "\n",
        "def sq(n):\n",
        "  return n**2\n",
        "\n",
        "sq = list(map(sq, l))\n",
        "\n",
        "sq"
      ],
      "metadata": {
        "colab": {
          "base_uri": "https://localhost:8080/"
        },
        "id": "ZP7vdaoLsC14",
        "outputId": "c9892a6a-e2fc-4805-ecb2-4cbdb32a530b"
      },
      "execution_count": null,
      "outputs": [
        {
          "output_type": "execute_result",
          "data": {
            "text/plain": [
              "[100, 121, 144, 196, 225]"
            ]
          },
          "metadata": {},
          "execution_count": 182
        }
      ]
    },
    {
      "cell_type": "code",
      "source": [
        "words = [\"hello\", 'world', 'lambda', 'exercise']\n",
        "\n",
        "res = list(map(lambda x: x.upper(), words))\n",
        "\n",
        "res"
      ],
      "metadata": {
        "colab": {
          "base_uri": "https://localhost:8080/"
        },
        "id": "D6CjuCDhtteO",
        "outputId": "65f64621-866e-4aed-f06c-b5a3443a3cc3"
      },
      "execution_count": null,
      "outputs": [
        {
          "output_type": "execute_result",
          "data": {
            "text/plain": [
              "['HELLO', 'WORLD', 'LAMBDA', 'EXERCISE']"
            ]
          },
          "metadata": {},
          "execution_count": 187
        }
      ]
    },
    {
      "cell_type": "markdown",
      "source": [
        "### **Sorted()**"
      ],
      "metadata": {
        "id": "wAxMvCs4xSOk"
      }
    },
    {
      "cell_type": "code",
      "source": [
        "people = [{'name':'Alice', 'age':30},{'name':'Bob', 'age':25},{'name':'Charles', 'age':35}]\n",
        "res = sorted(people, key=lambda i: i['age'])\n",
        "res"
      ],
      "metadata": {
        "colab": {
          "base_uri": "https://localhost:8080/"
        },
        "id": "zYQSMjmZu6av",
        "outputId": "de3fee27-f491-4fcc-9bf6-d01cbe40eb94"
      },
      "execution_count": null,
      "outputs": [
        {
          "output_type": "execute_result",
          "data": {
            "text/plain": [
              "[{'name': 'Bob', 'age': 25},\n",
              " {'name': 'Alice', 'age': 30},\n",
              " {'name': 'Charles', 'age': 35}]"
            ]
          },
          "metadata": {},
          "execution_count": 192
        }
      ]
    },
    {
      "cell_type": "code",
      "source": [],
      "metadata": {
        "id": "gZ4QtVmexX1p"
      },
      "execution_count": null,
      "outputs": []
    },
    {
      "cell_type": "markdown",
      "source": [
        "## **Classes & Objects in Python**\n",
        "  * Class consists of attributes and variables\n",
        "  * Methods/functions"
      ],
      "metadata": {
        "id": "9MQzciXn6tD1"
      }
    },
    {
      "cell_type": "code",
      "source": [
        "class addition:\n",
        "    a = 10\n",
        "    b = 20\n",
        "    def add(self):\n",
        "      return self.a+self.b\n",
        "\n",
        "obj = addition()\n",
        "obj.add()"
      ],
      "metadata": {
        "colab": {
          "base_uri": "https://localhost:8080/"
        },
        "id": "ESzgB_dM6wbP",
        "outputId": "52fcda45-e498-4323-8685-8ec269a6fb88"
      },
      "execution_count": null,
      "outputs": [
        {
          "output_type": "execute_result",
          "data": {
            "text/plain": [
              "30"
            ]
          },
          "metadata": {},
          "execution_count": 198
        }
      ]
    },
    {
      "cell_type": "code",
      "source": [
        "class Computer:\n",
        "  def config(self):\n",
        "    print(\"i5, 16Gb, \",32)"
      ],
      "metadata": {
        "id": "_xw_yomC7Wu2"
      },
      "execution_count": null,
      "outputs": []
    },
    {
      "cell_type": "code",
      "source": [
        "obj = Computer()\n",
        "obj.config()"
      ],
      "metadata": {
        "colab": {
          "base_uri": "https://localhost:8080/"
        },
        "id": "9mItRZWd8JWM",
        "outputId": "871d5b46-34d1-44e2-f040-65bceaa054bc"
      },
      "execution_count": null,
      "outputs": [
        {
          "output_type": "stream",
          "name": "stdout",
          "text": [
            "i5, 16Gb,  32\n"
          ]
        }
      ]
    },
    {
      "cell_type": "code",
      "source": [],
      "metadata": {
        "id": "bl_9yOOX8MFH"
      },
      "execution_count": null,
      "outputs": []
    }
  ]
}