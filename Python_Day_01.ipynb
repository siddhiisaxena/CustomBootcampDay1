{
  "nbformat": 4,
  "nbformat_minor": 0,
  "metadata": {
    "colab": {
      "provenance": [],
      "collapsed_sections": [
        "DVNFSaLkDLjo",
        "7v7uBx8vGkT2",
        "PdpjZB2IM7Qc"
      ]
    },
    "kernelspec": {
      "name": "python3",
      "display_name": "Python 3"
    },
    "language_info": {
      "name": "python"
    }
  },
  "cells": [
    {
      "cell_type": "markdown",
      "source": [
        "### **Fundamental Data Types in Python**"
      ],
      "metadata": {
        "id": "VgQ2cBonhJHJ"
      }
    },
    {
      "cell_type": "code",
      "execution_count": null,
      "metadata": {
        "colab": {
          "base_uri": "https://localhost:8080/"
        },
        "id": "Ru-cEGSOgqvs",
        "outputId": "3ab66be8-c933-4a17-d88b-e68f6f67e8c5"
      },
      "outputs": [
        {
          "output_type": "stream",
          "name": "stdout",
          "text": [
            "Welcome\n"
          ]
        }
      ],
      "source": [
        "print(\"Welcome\")"
      ]
    },
    {
      "cell_type": "code",
      "source": [
        "a = 10\n",
        "type(a)\n",
        "print(a)"
      ],
      "metadata": {
        "colab": {
          "base_uri": "https://localhost:8080/"
        },
        "id": "fFrYGRIzhQ2t",
        "outputId": "e7559150-1727-479f-b13b-8b1bbdab3a54"
      },
      "execution_count": null,
      "outputs": [
        {
          "output_type": "stream",
          "name": "stdout",
          "text": [
            "10\n"
          ]
        }
      ]
    },
    {
      "cell_type": "code",
      "source": [
        "b = \"python\"\n",
        "print(type(b))\n",
        "print(b)"
      ],
      "metadata": {
        "colab": {
          "base_uri": "https://localhost:8080/"
        },
        "id": "KkncpfcwhcY3",
        "outputId": "1f4973eb-22db-499e-df92-45a27d3a3cf3"
      },
      "execution_count": null,
      "outputs": [
        {
          "output_type": "stream",
          "name": "stdout",
          "text": [
            "<class 'str'>\n",
            "python\n"
          ]
        }
      ]
    },
    {
      "cell_type": "code",
      "source": [
        "e =\"\"\"Data\n",
        "engineering\n",
        "Python\n",
        "\"\"\"\n",
        "type(e)"
      ],
      "metadata": {
        "colab": {
          "base_uri": "https://localhost:8080/"
        },
        "id": "dqZ322XQkWYX",
        "outputId": "697704fa-139c-4261-f690-321e4d20d207"
      },
      "execution_count": null,
      "outputs": [
        {
          "output_type": "execute_result",
          "data": {
            "text/plain": [
              "str"
            ]
          },
          "metadata": {},
          "execution_count": 9
        }
      ]
    },
    {
      "cell_type": "code",
      "source": [
        "a = True\n",
        "type(a)"
      ],
      "metadata": {
        "colab": {
          "base_uri": "https://localhost:8080/"
        },
        "id": "IBc3C5KAk9H8",
        "outputId": "5bfca08a-1d5f-4694-bb43-9640ee9e73f0"
      },
      "execution_count": null,
      "outputs": [
        {
          "output_type": "execute_result",
          "data": {
            "text/plain": [
              "bool"
            ]
          },
          "metadata": {},
          "execution_count": 10
        }
      ]
    },
    {
      "cell_type": "code",
      "source": [
        "a = False\n",
        "type(a)"
      ],
      "metadata": {
        "colab": {
          "base_uri": "https://localhost:8080/"
        },
        "id": "wrrx-WYSk--p",
        "outputId": "5b137016-e1a5-4379-e481-e278aae0bc70"
      },
      "execution_count": null,
      "outputs": [
        {
          "output_type": "execute_result",
          "data": {
            "text/plain": [
              "bool"
            ]
          },
          "metadata": {},
          "execution_count": 11
        }
      ]
    },
    {
      "cell_type": "code",
      "source": [
        "print(a)"
      ],
      "metadata": {
        "colab": {
          "base_uri": "https://localhost:8080/"
        },
        "id": "Jkw8cEt1lSvH",
        "outputId": "98fe27e8-865b-44b8-ba7e-c3022bf0ee8e"
      },
      "execution_count": null,
      "outputs": [
        {
          "output_type": "stream",
          "name": "stdout",
          "text": [
            "False\n"
          ]
        }
      ]
    },
    {
      "cell_type": "code",
      "source": [
        "a = 10\n",
        "b = 20\n",
        "c = a>b\n",
        "print(c)"
      ],
      "metadata": {
        "colab": {
          "base_uri": "https://localhost:8080/"
        },
        "id": "TsY3G1K9lT5t",
        "outputId": "2f49f527-259e-4996-ad80-64ac06284413"
      },
      "execution_count": null,
      "outputs": [
        {
          "output_type": "stream",
          "name": "stdout",
          "text": [
            "False\n"
          ]
        }
      ]
    },
    {
      "cell_type": "code",
      "source": [
        "print(True+True)"
      ],
      "metadata": {
        "colab": {
          "base_uri": "https://localhost:8080/"
        },
        "id": "pYhsyq6GlttW",
        "outputId": "aae91770-03fb-4629-cca8-3f513d1c4998"
      },
      "execution_count": null,
      "outputs": [
        {
          "output_type": "stream",
          "name": "stdout",
          "text": [
            "2\n"
          ]
        }
      ]
    },
    {
      "cell_type": "code",
      "source": [
        "d = 10+20j\n",
        "type(d)"
      ],
      "metadata": {
        "colab": {
          "base_uri": "https://localhost:8080/"
        },
        "id": "GnKnC1bsl9_I",
        "outputId": "b8e839d0-0235-4267-8933-7fa53f65f7a4"
      },
      "execution_count": null,
      "outputs": [
        {
          "output_type": "execute_result",
          "data": {
            "text/plain": [
              "complex"
            ]
          },
          "metadata": {},
          "execution_count": 21
        }
      ]
    },
    {
      "cell_type": "markdown",
      "source": [
        "#### **Note**\n",
        "* All fundamental datatypes (i.e. int, string, float, boolean, complex etc.) are immutable in nature.\n",
        "* New object won't be created if a object already exists with same value\n",
        "\n",
        "**e.g.**\n",
        "\n",
        "```\n",
        "a = 10\n",
        "b = 10\n",
        "```\n",
        "* ```b``` will also point to the same object ```a```\n",
        "\n",
        "* The address of both ```a``` and ```b``` will point to the same address"
      ],
      "metadata": {
        "id": "qGfzJZLUnGsd"
      }
    },
    {
      "cell_type": "code",
      "source": [
        "a = 10"
      ],
      "metadata": {
        "id": "l84gitDLnIBD"
      },
      "execution_count": null,
      "outputs": []
    },
    {
      "cell_type": "code",
      "source": [
        "print(id(a))"
      ],
      "metadata": {
        "colab": {
          "base_uri": "https://localhost:8080/"
        },
        "id": "T8HwT1xin682",
        "outputId": "fda9b118-c24d-4b24-cc1c-57f76cf078b0"
      },
      "execution_count": null,
      "outputs": [
        {
          "output_type": "stream",
          "name": "stdout",
          "text": [
            "134893704806928\n"
          ]
        }
      ]
    },
    {
      "cell_type": "code",
      "source": [
        "b = 10"
      ],
      "metadata": {
        "id": "_OsV474zn8zD"
      },
      "execution_count": null,
      "outputs": []
    },
    {
      "cell_type": "code",
      "source": [
        "print(id(b))"
      ],
      "metadata": {
        "colab": {
          "base_uri": "https://localhost:8080/"
        },
        "id": "gC8RC5cIn9a8",
        "outputId": "4ce5bb44-8acc-487d-cbe0-d8b6563ad849"
      },
      "execution_count": null,
      "outputs": [
        {
          "output_type": "stream",
          "name": "stdout",
          "text": [
            "134893704806928\n"
          ]
        }
      ]
    },
    {
      "cell_type": "code",
      "source": [
        "s = \"Data Engineering\" #Strings supports +ve & -ve indexing\n",
        "s[-7]"
      ],
      "metadata": {
        "colab": {
          "base_uri": "https://localhost:8080/",
          "height": 35
        },
        "id": "KfBPRBO_pfzF",
        "outputId": "ac4cc5ae-9d38-479f-f7b1-9833547220d8"
      },
      "execution_count": null,
      "outputs": [
        {
          "output_type": "execute_result",
          "data": {
            "text/plain": [
              "'n'"
            ],
            "application/vnd.google.colaboratory.intrinsic+json": {
              "type": "string"
            }
          },
          "metadata": {},
          "execution_count": 24
        }
      ]
    },
    {
      "cell_type": "code",
      "source": [
        "#slicing in Strings\n",
        "print(s[0:4])\n",
        "print(s[0:4:2])\n",
        "#s_obj[start_pos:end_pos(not included):increment_val]"
      ],
      "metadata": {
        "colab": {
          "base_uri": "https://localhost:8080/"
        },
        "id": "SCG3dEltqOgG",
        "outputId": "ec9ca56d-af85-4e39-f896-8d0251196a4a"
      },
      "execution_count": null,
      "outputs": [
        {
          "output_type": "stream",
          "name": "stdout",
          "text": [
            "Data\n",
            "Dt\n"
          ]
        }
      ]
    },
    {
      "cell_type": "code",
      "source": [
        "s = \"ABCDEFGHIJKLMNOPQRSTVXYZ\"\n",
        "s[12:15]\n",
        "s[:14]\n",
        "s[-3:]\n",
        "s[:]\n",
        "s[3:1000]"
      ],
      "metadata": {
        "colab": {
          "base_uri": "https://localhost:8080/",
          "height": 35
        },
        "id": "-tzYXUbTq7V_",
        "outputId": "8f07c0e3-58cb-4dd2-9981-e7c5fa565c38"
      },
      "execution_count": null,
      "outputs": [
        {
          "output_type": "execute_result",
          "data": {
            "text/plain": [
              "'DEFGHIJKLMNOPQRSTVXYZ'"
            ],
            "application/vnd.google.colaboratory.intrinsic+json": {
              "type": "string"
            }
          },
          "metadata": {},
          "execution_count": 35
        }
      ]
    },
    {
      "cell_type": "markdown",
      "source": [
        "### **Operators in Python**"
      ],
      "metadata": {
        "id": "UrQlfH2O5Qav"
      }
    },
    {
      "cell_type": "markdown",
      "source": [
        "#### **Arithmetic Operators**"
      ],
      "metadata": {
        "id": "rrASh-sA5oeD"
      }
    },
    {
      "cell_type": "code",
      "source": [
        "a = 10\n",
        "b = 20\n",
        "print(a+b)\n",
        "print(a-b)\n",
        "print(a*b)\n",
        "print(a/b)\n",
        "print(a//b) #Floor division 10/20 = 0.5 => 0\n",
        "print(3//2)"
      ],
      "metadata": {
        "colab": {
          "base_uri": "https://localhost:8080/"
        },
        "id": "y2VtOr5b5dhR",
        "outputId": "3a90ba01-b107-4486-b6d7-6fc17ced215c"
      },
      "execution_count": null,
      "outputs": [
        {
          "output_type": "stream",
          "name": "stdout",
          "text": [
            "30\n",
            "-10\n",
            "200\n",
            "0.5\n",
            "0\n",
            "1\n"
          ]
        }
      ]
    },
    {
      "cell_type": "code",
      "source": [
        "a = 10.0\n",
        "b = 2.0\n",
        "print(a/b)\n",
        "print(a//b)"
      ],
      "metadata": {
        "colab": {
          "base_uri": "https://localhost:8080/"
        },
        "id": "_Gx8Ygs76YGU",
        "outputId": "d412bf56-32f5-49c3-e316-00e0375528e8"
      },
      "execution_count": null,
      "outputs": [
        {
          "output_type": "stream",
          "name": "stdout",
          "text": [
            "5.0\n",
            "5.0\n"
          ]
        }
      ]
    },
    {
      "cell_type": "markdown",
      "source": [
        "#### **Note**\n",
        "* If the variables are in float then the result will be in float"
      ],
      "metadata": {
        "id": "7vCc42CP6iR4"
      }
    },
    {
      "cell_type": "code",
      "source": [
        "print(a%b)\n",
        "print(a**b)"
      ],
      "metadata": {
        "colab": {
          "base_uri": "https://localhost:8080/"
        },
        "id": "wp1LVGPF6o6x",
        "outputId": "6c951d64-86bd-4b08-b705-f854d86af3f9"
      },
      "execution_count": null,
      "outputs": [
        {
          "output_type": "stream",
          "name": "stdout",
          "text": [
            "0.0\n",
            "100.0\n"
          ]
        }
      ]
    },
    {
      "cell_type": "code",
      "source": [
        "\"ten\" + \"twenty\"\n",
        "# \"ten\"*\"twenty\" -> gives error"
      ],
      "metadata": {
        "colab": {
          "base_uri": "https://localhost:8080/",
          "height": 35
        },
        "id": "cZaTmk9P-Jz2",
        "outputId": "26d17914-abb1-4e73-c745-abadf1028108"
      },
      "execution_count": null,
      "outputs": [
        {
          "output_type": "execute_result",
          "data": {
            "text/plain": [
              "'tentwenty'"
            ],
            "application/vnd.google.colaboratory.intrinsic+json": {
              "type": "string"
            }
          },
          "metadata": {},
          "execution_count": 53
        }
      ]
    },
    {
      "cell_type": "code",
      "source": [
        "#\"ten\" + 10 ->gives error"
      ],
      "metadata": {
        "id": "G3mRNEY9-jV4"
      },
      "execution_count": null,
      "outputs": []
    },
    {
      "cell_type": "markdown",
      "source": [
        "#### **Note**\n",
        "* Multiplication operation works with one Int and one String datatype\n",
        "* Multiplication operation donot work with two string operators\n",
        "* addition only works with two string datatypes or two integer datatypes"
      ],
      "metadata": {
        "id": "SyW1h5vr-sVf"
      }
    },
    {
      "cell_type": "code",
      "source": [
        "\"ten\"*3"
      ],
      "metadata": {
        "colab": {
          "base_uri": "https://localhost:8080/",
          "height": 35
        },
        "id": "7t04bXDU-NBY",
        "outputId": "bd031f21-95ce-474f-8fca-ff23a49e5575"
      },
      "execution_count": null,
      "outputs": [
        {
          "output_type": "execute_result",
          "data": {
            "text/plain": [
              "'tententen'"
            ],
            "application/vnd.google.colaboratory.intrinsic+json": {
              "type": "string"
            }
          },
          "metadata": {},
          "execution_count": 51
        }
      ]
    },
    {
      "cell_type": "markdown",
      "source": [
        "#### **Relational **Operators** <, >, <=, >=, !=, ==**\n"
      ],
      "metadata": {
        "id": "tsYYaiqD5wut"
      }
    },
    {
      "cell_type": "code",
      "source": [
        "a = 20\n",
        "b = 10\n",
        "print(a>b)\n",
        "print(a>=b)"
      ],
      "metadata": {
        "colab": {
          "base_uri": "https://localhost:8080/"
        },
        "id": "Si7mo8JX668o",
        "outputId": "e6b15611-13c0-4518-b3a0-7e93eb555df6"
      },
      "execution_count": null,
      "outputs": [
        {
          "output_type": "stream",
          "name": "stdout",
          "text": [
            "True\n",
            "True\n"
          ]
        }
      ]
    },
    {
      "cell_type": "markdown",
      "source": [
        "#### **Logical Operators**\n"
      ],
      "metadata": {
        "id": "mwMZO_hX7EvI"
      }
    },
    {
      "cell_type": "code",
      "source": [
        "a = True\n",
        "b = False\n",
        "print(a and b)"
      ],
      "metadata": {
        "colab": {
          "base_uri": "https://localhost:8080/"
        },
        "id": "62AV93zp67mL",
        "outputId": "9ebbfa1f-9714-4282-8dbd-aceaf6d28277"
      },
      "execution_count": null,
      "outputs": [
        {
          "output_type": "stream",
          "name": "stdout",
          "text": [
            "False\n"
          ]
        }
      ]
    },
    {
      "cell_type": "code",
      "source": [
        "print(a or b)"
      ],
      "metadata": {
        "colab": {
          "base_uri": "https://localhost:8080/"
        },
        "id": "TR0S16q27UwH",
        "outputId": "893156b7-459a-4a5f-f8ea-71d3e72ea135"
      },
      "execution_count": null,
      "outputs": [
        {
          "output_type": "stream",
          "name": "stdout",
          "text": [
            "True\n"
          ]
        }
      ]
    },
    {
      "cell_type": "code",
      "source": [
        "print(not a)"
      ],
      "metadata": {
        "colab": {
          "base_uri": "https://localhost:8080/"
        },
        "id": "ZKmejs6C7X7F",
        "outputId": "cddf428f-a86f-4544-b88c-fa782db53f55"
      },
      "execution_count": null,
      "outputs": [
        {
          "output_type": "stream",
          "name": "stdout",
          "text": [
            "False\n"
          ]
        }
      ]
    },
    {
      "cell_type": "code",
      "source": [
        "is_geological_survey_complete = True\n",
        "is_environmental_clearance_received = True\n",
        "is_market_demand_high = False\n",
        "\n",
        "should_start_drilling = is_geological_survey_complete and is_environmental_clearance_received and is_market_demand_high\n",
        "print(\"Should we start drilling?\", should_start_drilling)\n"
      ],
      "metadata": {
        "colab": {
          "base_uri": "https://localhost:8080/"
        },
        "id": "q_RsY81r8PbB",
        "outputId": "1d767ddc-aa16-4f54-d563-79319b2d1701"
      },
      "execution_count": null,
      "outputs": [
        {
          "output_type": "stream",
          "name": "stdout",
          "text": [
            "Should we start drilling False\n"
          ]
        }
      ]
    },
    {
      "cell_type": "code",
      "source": [
        "# Boolean Variables\n",
        "HasExplorationPermit = True\n",
        "HasDrillingRights = True\n",
        "HasEnvironmentalApproval = False\n",
        "HasOilDiscovery = True\n",
        "\n",
        "\n",
        "\n",
        "# Logical Operations\n",
        "IsExplorationAllowed = HasExplorationPermit and HasDrillingRights and not HasEnvironmentalApproval #true\n",
        "IsDiscoveryProfitable = HasOilDiscovery and (HasExplorationPermit or HasDrillingRights) #true\n",
        "\n",
        "print(IsExplorationAllowed, IsDiscoveryProfitable)"
      ],
      "metadata": {
        "colab": {
          "base_uri": "https://localhost:8080/"
        },
        "id": "lj_DUrwb9A_W",
        "outputId": "f5b91557-541a-46c6-a0f9-ef3a055733da"
      },
      "execution_count": null,
      "outputs": [
        {
          "output_type": "stream",
          "name": "stdout",
          "text": [
            "True True\n"
          ]
        }
      ]
    },
    {
      "cell_type": "markdown",
      "source": [
        "#### **Membership Operator**"
      ],
      "metadata": {
        "id": "Y39NRbxgQchs"
      }
    },
    {
      "cell_type": "code",
      "source": [
        "a = [10, 20, 40, \"Shell\", \"Data\"]\n",
        "10 in a"
      ],
      "metadata": {
        "colab": {
          "base_uri": "https://localhost:8080/"
        },
        "id": "PlCBImkEQfoX",
        "outputId": "e4cf52bc-4b6b-4b04-cd96-4a0d5089377d"
      },
      "execution_count": null,
      "outputs": [
        {
          "output_type": "execute_result",
          "data": {
            "text/plain": [
              "True"
            ]
          },
          "metadata": {},
          "execution_count": 89
        }
      ]
    },
    {
      "cell_type": "code",
      "source": [
        "\"Shell\" not in a"
      ],
      "metadata": {
        "colab": {
          "base_uri": "https://localhost:8080/"
        },
        "id": "VICbogoIQfxt",
        "outputId": "7bd11ef7-ae3b-464b-c5a8-4f83b57809f0"
      },
      "execution_count": null,
      "outputs": [
        {
          "output_type": "execute_result",
          "data": {
            "text/plain": [
              "False"
            ]
          },
          "metadata": {},
          "execution_count": 90
        }
      ]
    },
    {
      "cell_type": "code",
      "source": [
        "s = \"Python\"\n",
        "res = 'P' in s\n",
        "print(res)"
      ],
      "metadata": {
        "colab": {
          "base_uri": "https://localhost:8080/"
        },
        "id": "14-_yQ7GQ3lh",
        "outputId": "313a0e9e-afe3-47a3-fa34-a45ee62a55ab"
      },
      "execution_count": null,
      "outputs": [
        {
          "output_type": "stream",
          "name": "stdout",
          "text": [
            "True\n"
          ]
        }
      ]
    },
    {
      "cell_type": "code",
      "source": [
        "# List of Equipment\n",
        "refineryEquipment = [\"Crude Distillation Unit\", \"Catalytic Cracking Unit\", \"Hydrotreating Unit\", \"FCC Unit\"]\n",
        "\n",
        "\n",
        "\n",
        "# Membership Operator\n",
        "IsUnitInstalled = \"Hydrotreating Unit\" in refineryEquipment\n",
        "IsUnitObsolete = \"Thermal Cracking Unit\" not in refineryEquipment\n",
        "\n",
        "\n",
        "\n",
        "print(\"Is Hydrotreating Unit installed?\", IsUnitInstalled)\n",
        "print(\"Is Thermal Cracking Unit obsolete?\", IsUnitObsolete)"
      ],
      "metadata": {
        "colab": {
          "base_uri": "https://localhost:8080/"
        },
        "id": "mcy-26mdQ3xc",
        "outputId": "f7afa7d3-6832-48f9-ec96-983fafc065c6"
      },
      "execution_count": null,
      "outputs": [
        {
          "output_type": "stream",
          "name": "stdout",
          "text": [
            "Is Hydrotreating Unit installed? True\n",
            "Is Thermal Cracking Unit obsolete? True\n"
          ]
        }
      ]
    },
    {
      "cell_type": "markdown",
      "source": [
        "#### **Lists in Python**"
      ],
      "metadata": {
        "id": "iowjxVeRo2Bs"
      }
    },
    {
      "cell_type": "markdown",
      "source": [
        "* Lists are mutable\n",
        "* Heterogeneous Objects are allowed\n",
        "* Duplicates are allowed\n",
        "* Indexing and Slicing are possible"
      ],
      "metadata": {
        "id": "q6m5n9075G61"
      }
    },
    {
      "cell_type": "code",
      "source": [
        "list1 = [10, \"python\", 20, 10, 0.5, True]\n",
        "print(list1)\n",
        "print(type(a))"
      ],
      "metadata": {
        "colab": {
          "base_uri": "https://localhost:8080/"
        },
        "id": "8tfMWIGWo3Zx",
        "outputId": "e8d1eac6-7719-4a0d-92cb-9401170a85dd"
      },
      "execution_count": null,
      "outputs": [
        {
          "output_type": "stream",
          "name": "stdout",
          "text": [
            "[10, 'python', 20, 10, 0.5, True]\n",
            "<class 'bool'>\n"
          ]
        }
      ]
    },
    {
      "cell_type": "code",
      "source": [
        "list1[-1]"
      ],
      "metadata": {
        "colab": {
          "base_uri": "https://localhost:8080/"
        },
        "id": "jaJGwJqjBFag",
        "outputId": "c9c30a9e-8664-45d1-8def-f718aef0460e"
      },
      "execution_count": null,
      "outputs": [
        {
          "output_type": "execute_result",
          "data": {
            "text/plain": [
              "True"
            ]
          },
          "metadata": {},
          "execution_count": 60
        }
      ]
    },
    {
      "cell_type": "code",
      "source": [
        "list1[:]"
      ],
      "metadata": {
        "colab": {
          "base_uri": "https://localhost:8080/"
        },
        "id": "b-YeHGH9CDTo",
        "outputId": "bcba1f3c-3736-49bc-8699-3e4a5542afda"
      },
      "execution_count": null,
      "outputs": [
        {
          "output_type": "execute_result",
          "data": {
            "text/plain": [
              "[10, 'python', 20, 10, 0.5, True]"
            ]
          },
          "metadata": {},
          "execution_count": 62
        }
      ]
    },
    {
      "cell_type": "code",
      "source": [
        "id(list1)"
      ],
      "metadata": {
        "colab": {
          "base_uri": "https://localhost:8080/"
        },
        "id": "OEXCwrypCD8M",
        "outputId": "ec24ae97-3ae4-4fa0-bb4f-6b3b1472a757"
      },
      "execution_count": null,
      "outputs": [
        {
          "output_type": "execute_result",
          "data": {
            "text/plain": [
              "134892434741248"
            ]
          },
          "metadata": {},
          "execution_count": 63
        }
      ]
    },
    {
      "cell_type": "code",
      "source": [
        "list1.append(999)\n",
        "id(list1)      ###Lists are mutable"
      ],
      "metadata": {
        "colab": {
          "base_uri": "https://localhost:8080/"
        },
        "id": "QO6_ih1nCKJO",
        "outputId": "35fbab9b-f410-42c0-f9e2-6cc68a13f985"
      },
      "execution_count": null,
      "outputs": [
        {
          "output_type": "execute_result",
          "data": {
            "text/plain": [
              "134892434741248"
            ]
          },
          "metadata": {},
          "execution_count": 64
        }
      ]
    },
    {
      "cell_type": "code",
      "source": [
        "list1.remove(10)\n",
        "print(list1)"
      ],
      "metadata": {
        "colab": {
          "base_uri": "https://localhost:8080/"
        },
        "id": "7kwqaCEjCOAe",
        "outputId": "dbce4c8e-c642-4a3c-9666-9d451a2caeec"
      },
      "execution_count": null,
      "outputs": [
        {
          "output_type": "stream",
          "name": "stdout",
          "text": [
            "['python', 20, 10, 0.5, True, 999]\n"
          ]
        }
      ]
    },
    {
      "cell_type": "code",
      "source": [
        "employees = [\n",
        "    \"John Doe, Senior Geologist, Geology, johndoe@email.com, 123-456-7890\",\n",
        "    \"Jane Smith, Drilling Engineer, Drilling, janesmith@email.com, 987-654-3210\",\n",
        "    \"Bob Johnson, Reservoir Engineer, Reservoir Engineering, bobjohnson@email.com, 456-789-0123\",\n",
        "    \"Alice Brown, Petrophysicist, Petrophysics, alicebrown@email.com, 789-012-3456\"\n",
        "]\n",
        "res = employees[0].split(',')\n",
        "print(\"Employee Information:\\nName: {}\\nJob Title: {}\\nDepartment: {}\\nEmail: {}\\nPhone: {}\".format(res[0], res[1], res[2], res[3], res[4]))"
      ],
      "metadata": {
        "colab": {
          "base_uri": "https://localhost:8080/"
        },
        "id": "F2Hb0GrjDB3Y",
        "outputId": "3f27a460-b108-4938-fd0a-697cc37cb8ed"
      },
      "execution_count": null,
      "outputs": [
        {
          "output_type": "stream",
          "name": "stdout",
          "text": [
            "Employee Information:\n",
            "Name: John Doe\n",
            "Job Title:  Senior Geologist\n",
            "Department:  Geology\n",
            "Email:  johndoe@email.com\n",
            "Phone:  123-456-7890\n"
          ]
        }
      ]
    },
    {
      "cell_type": "code",
      "source": [
        "new_employee = \"Eva Green, Drilling Technician, Drilling, evagreen@email.com, 111-222-3333\"\n",
        "employees.append(new_employee)\n",
        "print(employees)"
      ],
      "metadata": {
        "colab": {
          "base_uri": "https://localhost:8080/"
        },
        "id": "NFQ6pe_jSU7w",
        "outputId": "740cfc3d-7838-426e-e34b-a6adb63e4d9c"
      },
      "execution_count": null,
      "outputs": [
        {
          "output_type": "stream",
          "name": "stdout",
          "text": [
            "['John Doe, Senior Geologist, Geology, johndoe@email.com, 123-456-7890', 'Jane Smith, Drilling Engineer, Drilling, janesmith@email.com, 987-654-3210', 'Bob Johnson, Reservoir Engineer, Reservoir Engineering, bobjohnson@email.com, 456-789-0123', 'Alice Brown, Petrophysicist, Petrophysics, alicebrown@email.com, 789-012-3456', 'Eva Green, Drilling Technician, Drilling, evagreen@email.com, 111-222-3333']\n"
          ]
        }
      ]
    },
    {
      "cell_type": "markdown",
      "source": [
        "#### **Tuples in python**\n",
        "* defined using ( )\n",
        "* order is preserved\n",
        "* indexing & slicing is allowed\n",
        "* tuples are immutable\n",
        "* heterogeneous elements are allowed"
      ],
      "metadata": {
        "id": "DVNFSaLkDLjo"
      }
    },
    {
      "cell_type": "code",
      "source": [
        "a = (\"Well A\", \"2023-10-08\", \"Pipeline\", True, 100, 100)"
      ],
      "metadata": {
        "id": "eCok5qXzDSiY"
      },
      "execution_count": null,
      "outputs": []
    },
    {
      "cell_type": "code",
      "source": [
        "print(a)"
      ],
      "metadata": {
        "colab": {
          "base_uri": "https://localhost:8080/"
        },
        "id": "XecGVHz_DsKe",
        "outputId": "a33ac648-34ec-4a19-8bac-7313e7dd3db3"
      },
      "execution_count": null,
      "outputs": [
        {
          "output_type": "stream",
          "name": "stdout",
          "text": [
            "('Well A', '2023-10-08', 'Pipeline', True, 100, 100)\n"
          ]
        }
      ]
    },
    {
      "cell_type": "code",
      "source": [
        "a[2]"
      ],
      "metadata": {
        "colab": {
          "base_uri": "https://localhost:8080/",
          "height": 35
        },
        "id": "LXg5iNqfDtLD",
        "outputId": "4941e96c-3860-4e37-bd3c-613b3680704f"
      },
      "execution_count": null,
      "outputs": [
        {
          "output_type": "execute_result",
          "data": {
            "text/plain": [
              "'Pipeline'"
            ],
            "application/vnd.google.colaboratory.intrinsic+json": {
              "type": "string"
            }
          },
          "metadata": {},
          "execution_count": 71
        }
      ]
    },
    {
      "cell_type": "code",
      "source": [],
      "metadata": {
        "id": "ydg3RDgdEgHT"
      },
      "execution_count": null,
      "outputs": []
    },
    {
      "cell_type": "markdown",
      "source": [
        "#### **String Formatting**"
      ],
      "metadata": {
        "id": "7v7uBx8vGkT2"
      }
    },
    {
      "cell_type": "code",
      "source": [
        "name = \"Saumya\"\n",
        "role = \"Data Engineer\"\n",
        "\n",
        "print(\"I am {}, working as {}\".format(name, role))"
      ],
      "metadata": {
        "colab": {
          "base_uri": "https://localhost:8080/"
        },
        "id": "v6bXZhj1Gmpg",
        "outputId": "f3e92163-d818-4faf-fd64-b343e1caf21a"
      },
      "execution_count": null,
      "outputs": [
        {
          "output_type": "stream",
          "name": "stdout",
          "text": [
            "I am Saumya, working as Data Engineer\n"
          ]
        }
      ]
    },
    {
      "cell_type": "code",
      "source": [
        "print(\"I am %s working as %s\" %(name, role)) #%s -> output will be a string"
      ],
      "metadata": {
        "colab": {
          "base_uri": "https://localhost:8080/"
        },
        "id": "i3EYu8fUHPcn",
        "outputId": "a3ff220b-9213-4dfb-e2de-e5facf2feced"
      },
      "execution_count": null,
      "outputs": [
        {
          "output_type": "stream",
          "name": "stdout",
          "text": [
            "I am Saumya working as Data Engineer\n"
          ]
        }
      ]
    },
    {
      "cell_type": "code",
      "source": [
        "print(f\"I am {name} workingas {role}\") # f string method -> most commonly used. remember"
      ],
      "metadata": {
        "colab": {
          "base_uri": "https://localhost:8080/"
        },
        "id": "9TORGnG_IXam",
        "outputId": "5c54b625-6fd2-4219-a006-902589ff9d4b"
      },
      "execution_count": null,
      "outputs": [
        {
          "output_type": "stream",
          "name": "stdout",
          "text": [
            "I am Saumya workingas Data Engineer\n"
          ]
        }
      ]
    },
    {
      "cell_type": "code",
      "source": [
        "name = \"John Doe\"\n",
        "job_title = \"Senior Geologist\"\n",
        "department = \"Geology\"\n",
        "email = \"johndoe@email.com\"\n",
        "phone = \"123-456-7890\""
      ],
      "metadata": {
        "id": "dbkhIG_eJFkE"
      },
      "execution_count": null,
      "outputs": []
    },
    {
      "cell_type": "code",
      "source": [
        "print(f\"Employee Information:\\nName: {name}\\nJob Title: {job_title}\\nDepartment: {department}\\nEmail: {email}\\nPhone: {phone}\")"
      ],
      "metadata": {
        "colab": {
          "base_uri": "https://localhost:8080/"
        },
        "id": "67KfeiO9Jpdg",
        "outputId": "ea5192fe-2214-4b2d-f554-b7a17d3eccde"
      },
      "execution_count": null,
      "outputs": [
        {
          "output_type": "stream",
          "name": "stdout",
          "text": [
            "Employee Information:\n",
            "Name: John Doe\n",
            "Job Title: Senior Geologist\n",
            "Department: Geology\n",
            "Email: johndoe@email.com\n",
            "Phone: 123-456-7890\n"
          ]
        }
      ]
    },
    {
      "cell_type": "code",
      "source": [
        "print(\"Employee Information:\\nName: {}\\nJob Title: {}\\nDepartment: {}\\nEmail: {}\\nPhone: {}\".format(name, job_title, department, email, phone))"
      ],
      "metadata": {
        "colab": {
          "base_uri": "https://localhost:8080/"
        },
        "id": "InagrccLKA5C",
        "outputId": "5ecfb939-b2d5-4052-9fcd-7e55be0212d9"
      },
      "execution_count": null,
      "outputs": [
        {
          "output_type": "stream",
          "name": "stdout",
          "text": [
            "Employee Information:\n",
            "Name: John Doe\n",
            "Job Title: Senior Geologist\n",
            "Department: Geology\n",
            "Email: johndoe@email.com\n",
            "Phone: 123-456-7890\n"
          ]
        }
      ]
    },
    {
      "cell_type": "code",
      "source": [],
      "metadata": {
        "id": "jLCRlDSAKo09"
      },
      "execution_count": null,
      "outputs": []
    },
    {
      "cell_type": "markdown",
      "source": [
        "#### **Set in Python**\n",
        "* Duplicates are not allowed\n",
        "* Sets are mutable\n",
        "* heterogeneous objects are allowed\n",
        "* Order is not preserved\n",
        "* Slicing and indexing not possible"
      ],
      "metadata": {
        "id": "PdpjZB2IM7Qc"
      }
    },
    {
      "cell_type": "code",
      "source": [
        "s = {10, 10, 5, \"Shell\", True, True, 10, 20, 10, \"Python\"}\n",
        "print(s)\n",
        "print(type(s))"
      ],
      "metadata": {
        "colab": {
          "base_uri": "https://localhost:8080/"
        },
        "id": "U3s_UoJ5NINq",
        "outputId": "c00b5167-a8b9-4e67-8b3a-a4f4948f3664"
      },
      "execution_count": null,
      "outputs": [
        {
          "output_type": "stream",
          "name": "stdout",
          "text": [
            "{True, 20, 5, 'Shell', 10, 'Python'}\n",
            "<class 'set'>\n"
          ]
        }
      ]
    },
    {
      "cell_type": "code",
      "source": [
        "s.add(55)\n",
        "print(s)\n",
        "print(id(s))"
      ],
      "metadata": {
        "colab": {
          "base_uri": "https://localhost:8080/"
        },
        "id": "ys1N5_2TNbUa",
        "outputId": "cccc6372-1600-420f-f9ae-0c04be2ab521"
      },
      "execution_count": null,
      "outputs": [
        {
          "output_type": "stream",
          "name": "stdout",
          "text": [
            "{True, 20, 5, 55, 'Shell', 10, 'Python'}\n",
            "134892435321376\n"
          ]
        }
      ]
    },
    {
      "cell_type": "code",
      "source": [
        "s.add('SQL')\n",
        "print(s)\n",
        "print(id(s))"
      ],
      "metadata": {
        "colab": {
          "base_uri": "https://localhost:8080/"
        },
        "id": "uLG6ECNENuxP",
        "outputId": "c7bba1f6-e888-416c-95ed-ce76adce6352"
      },
      "execution_count": null,
      "outputs": [
        {
          "output_type": "stream",
          "name": "stdout",
          "text": [
            "{True, 'SQL', 20, 5, 55, 'Shell', 10, 'Python'}\n",
            "134892435321376\n"
          ]
        }
      ]
    },
    {
      "cell_type": "code",
      "source": [],
      "metadata": {
        "id": "4hPRvGHAN76A"
      },
      "execution_count": null,
      "outputs": []
    },
    {
      "cell_type": "markdown",
      "source": [
        "#### **Dictionaries in Python**\n",
        "* Defined using {}\n",
        "* Always takes values in Key:Value pairs\n",
        "* Mutable\n",
        "* Indexing is done using Keys\n",
        "* Heterogenous elements are allowed\n",
        "* Duplicate Keys are not allowed whereas duplicate Values are allowed"
      ],
      "metadata": {
        "id": "nRxOMOPHOBza"
      }
    },
    {
      "cell_type": "code",
      "source": [
        "d = {\"Location\":\"WellA\", \"Start_date\":\"2023-10-08\", \"Duration\":45}\n",
        "print(d)"
      ],
      "metadata": {
        "colab": {
          "base_uri": "https://localhost:8080/"
        },
        "id": "4ZM_GXsfOLXq",
        "outputId": "6c093016-9e23-43d0-d538-f46e8c0a0737"
      },
      "execution_count": null,
      "outputs": [
        {
          "output_type": "stream",
          "name": "stdout",
          "text": [
            "{'Location': 'WellA', 'Start_date': '2023-10-08', 'Duration': 45}\n"
          ]
        }
      ]
    },
    {
      "cell_type": "code",
      "source": [
        "print(id(d))\n",
        "d[\"Location\"] = \"WellB\"\n",
        "print(d)\n",
        "print(id(d))"
      ],
      "metadata": {
        "colab": {
          "base_uri": "https://localhost:8080/"
        },
        "id": "BWWO2AlCOfKA",
        "outputId": "8d11577f-3e45-4a0c-930e-366e353c5be8"
      },
      "execution_count": null,
      "outputs": [
        {
          "output_type": "stream",
          "name": "stdout",
          "text": [
            "134892434328960\n",
            "{'Location': 'WellB', 'Start_date': '2023-10-08', 'Duration': 45}\n",
            "134892434328960\n"
          ]
        }
      ]
    },
    {
      "cell_type": "code",
      "source": [],
      "metadata": {
        "id": "fPX1akMhPgdx"
      },
      "execution_count": null,
      "outputs": []
    },
    {
      "cell_type": "markdown",
      "source": [
        "## **Flow Control Statements**"
      ],
      "metadata": {
        "id": "aqmkhlCsagc9"
      }
    },
    {
      "cell_type": "markdown",
      "source": [
        "### **Selection Statement**\n",
        "* if\n",
        "* if else\n",
        "* if elif else"
      ],
      "metadata": {
        "id": "vVV6dlH6YvG3"
      }
    },
    {
      "cell_type": "code",
      "source": [
        "age = int(input(\"Enter age: \"))\n",
        "\n",
        "if age<18:\n",
        "  print(\"Not eligible for voting\")\n",
        "elif age>=18:\n",
        "  print(\"Eligible for voting\")"
      ],
      "metadata": {
        "colab": {
          "base_uri": "https://localhost:8080/"
        },
        "id": "gsADVTXaZCKh",
        "outputId": "e6219a6a-2314-4e59-9854-5858c3067144"
      },
      "execution_count": null,
      "outputs": [
        {
          "output_type": "stream",
          "name": "stdout",
          "text": [
            "Enter age: 6\n",
            "Not eligible for voting\n"
          ]
        }
      ]
    },
    {
      "cell_type": "code",
      "source": [
        "low_fuel_threshold = 1000\n",
        "critical_fuel_threshold = 500\n",
        "current_fuel_level = int(input(\"Enter current fuel level: \"))\n",
        "\n",
        "if current_fuel_level <= critical_fuel_threshold:\n",
        "  print(\"Critical Fuel Level reached. Take an immediate action\")\n",
        "\n",
        "elif current_fuel_level <= low_fuel_threshold:\n",
        "  print(\"Alert!! Low Fuel Level\")\n",
        "else :\n",
        "  print(\"Continue fueling\")"
      ],
      "metadata": {
        "colab": {
          "base_uri": "https://localhost:8080/"
        },
        "id": "fLB3y_q1YyFZ",
        "outputId": "f6906cb2-750a-4bac-e70d-08ab33a5570f"
      },
      "execution_count": null,
      "outputs": [
        {
          "output_type": "stream",
          "name": "stdout",
          "text": [
            "Enter current fuel level: 800\n",
            "Alert!! Low Fuel Level\n"
          ]
        }
      ]
    },
    {
      "cell_type": "code",
      "source": [],
      "metadata": {
        "id": "y1aBcdC8ZSD0"
      },
      "execution_count": null,
      "outputs": []
    },
    {
      "cell_type": "markdown",
      "source": [
        "### **Range() Function & for loop**\n"
      ],
      "metadata": {
        "id": "XGMR4SsidOA1"
      }
    },
    {
      "cell_type": "code",
      "source": [
        "n = range(0,9)\n",
        "print(n)\n",
        "\n",
        "for i in n:\n",
        "  print(i)"
      ],
      "metadata": {
        "colab": {
          "base_uri": "https://localhost:8080/"
        },
        "id": "ahh5HHQqdl7F",
        "outputId": "db014574-aa5f-490b-9e2f-e86d8bbff4d5"
      },
      "execution_count": null,
      "outputs": [
        {
          "output_type": "stream",
          "name": "stdout",
          "text": [
            "range(0, 9)\n",
            "0\n",
            "1\n",
            "2\n",
            "3\n",
            "4\n",
            "5\n",
            "6\n",
            "7\n",
            "8\n"
          ]
        }
      ]
    },
    {
      "cell_type": "code",
      "source": [
        "for i in range(12): ##First Form of range()\n",
        "  print(i)"
      ],
      "metadata": {
        "colab": {
          "base_uri": "https://localhost:8080/"
        },
        "id": "Fcsa1CoedXKc",
        "outputId": "211ed38e-fb2b-42a1-9e27-6431936c6112"
      },
      "execution_count": null,
      "outputs": [
        {
          "output_type": "stream",
          "name": "stdout",
          "text": [
            "0\n",
            "1\n",
            "2\n",
            "3\n",
            "4\n",
            "5\n",
            "6\n",
            "7\n",
            "8\n",
            "9\n",
            "10\n",
            "11\n"
          ]
        }
      ]
    },
    {
      "cell_type": "code",
      "source": [
        "for i in range(3, 7): ##Second form of range()\n",
        "  print(i)"
      ],
      "metadata": {
        "colab": {
          "base_uri": "https://localhost:8080/"
        },
        "id": "4Ncyfaqtd_72",
        "outputId": "e782b392-9b99-4b94-e836-135e6bd1f1c4"
      },
      "execution_count": null,
      "outputs": [
        {
          "output_type": "stream",
          "name": "stdout",
          "text": [
            "3\n",
            "4\n",
            "5\n",
            "6\n"
          ]
        }
      ]
    },
    {
      "cell_type": "code",
      "source": [
        "for i in range(5, 12, 3): ##Third form of range()\n",
        "  print(i)"
      ],
      "metadata": {
        "colab": {
          "base_uri": "https://localhost:8080/"
        },
        "id": "iJDRyxlPdaEb",
        "outputId": "3b449414-8ac0-4e2b-92d4-9b8204e2d7b6"
      },
      "execution_count": null,
      "outputs": [
        {
          "output_type": "stream",
          "name": "stdout",
          "text": [
            "5\n",
            "8\n",
            "11\n"
          ]
        }
      ]
    },
    {
      "cell_type": "markdown",
      "source": [
        "###***Zip() function***"
      ],
      "metadata": {
        "id": "qr42UdB0eUSo"
      }
    },
    {
      "cell_type": "code",
      "source": [
        "l1 = ['a','b','c']\n",
        "l2 = ['Sales', 'IT', 'Finance']\n",
        "l3 = list(zip(l1, l2))\n",
        "l3"
      ],
      "metadata": {
        "colab": {
          "base_uri": "https://localhost:8080/"
        },
        "id": "k3eoGFg5fcxO",
        "outputId": "62a3d2ea-00d9-4e76-b54a-8f70bea3582c"
      },
      "execution_count": null,
      "outputs": [
        {
          "output_type": "execute_result",
          "data": {
            "text/plain": [
              "[('a', 'Sales'), ('b', 'IT'), ('c', 'Finance')]"
            ]
          },
          "metadata": {},
          "execution_count": 116
        }
      ]
    },
    {
      "cell_type": "code",
      "source": [
        "oil_gas_data = [\n",
        "    (\"Field A\", \"Texas\", 500000),\n",
        "    (\"Field B\", \"Alaska\", 800000),\n",
        "    (\"Field C\", \"North Sea\", 300000),\n",
        "    (\"Field D\", \"Gulf of Mexico\", 600000)]\n",
        "\n",
        "#use zip() to group the information of each oil and gas field together\n",
        "\n",
        "fields, location, reserves= zip(*oil_gas_data)    ## * is used for variable length\n",
        "print(fields, location, reserves)"
      ],
      "metadata": {
        "colab": {
          "base_uri": "https://localhost:8080/"
        },
        "id": "hH_oV56gfqGR",
        "outputId": "0598d836-6848-428b-bf73-d5060d3f45be"
      },
      "execution_count": null,
      "outputs": [
        {
          "output_type": "stream",
          "name": "stdout",
          "text": [
            "('Field A', 'Field B', 'Field C', 'Field D') ('Texas', 'Alaska', 'North Sea', 'Gulf of Mexico') (500000, 800000, 300000, 600000)\n"
          ]
        }
      ]
    },
    {
      "cell_type": "code",
      "source": [],
      "metadata": {
        "id": "6DX-MBpNhQZ9"
      },
      "execution_count": null,
      "outputs": []
    },
    {
      "cell_type": "markdown",
      "source": [
        "###***Ennumerate() function***\n",
        "* used to add index to a list"
      ],
      "metadata": {
        "id": "oDvqIBgWh7wD"
      }
    },
    {
      "cell_type": "code",
      "source": [
        "l = list(enumerate(location))\n",
        "print(l)"
      ],
      "metadata": {
        "colab": {
          "base_uri": "https://localhost:8080/"
        },
        "id": "sq9SCr9Eh9lb",
        "outputId": "7ac13bb6-15ab-4e3b-9ca4-4bc931a7e330"
      },
      "execution_count": null,
      "outputs": [
        {
          "output_type": "stream",
          "name": "stdout",
          "text": [
            "[(0, 'Texas'), (1, 'Alaska'), (2, 'North Sea'), (3, 'Gulf of Mexico')]\n"
          ]
        }
      ]
    },
    {
      "cell_type": "code",
      "source": [
        "l2 = list(enumerate(fields))\n",
        "print(l2)"
      ],
      "metadata": {
        "colab": {
          "base_uri": "https://localhost:8080/"
        },
        "id": "zHuf8-7CiK9L",
        "outputId": "86a01984-3430-411b-e991-2e64eb8d79ad"
      },
      "execution_count": null,
      "outputs": [
        {
          "output_type": "stream",
          "name": "stdout",
          "text": [
            "[(0, 'Field A'), (1, 'Field B'), (2, 'Field C'), (3, 'Field D')]\n"
          ]
        }
      ]
    },
    {
      "cell_type": "code",
      "source": [
        "for index, field_data in enumerate(oil_gas_data):\n",
        "    field_name, location, reserve = field_data\n",
        "    print(f\"Field {index+1}: {field_name} is located in {location} with reserves of {reserve} barrels.\")"
      ],
      "metadata": {
        "colab": {
          "base_uri": "https://localhost:8080/"
        },
        "id": "LuIySMq7iYTS",
        "outputId": "e915ade8-a13d-4913-a674-37375c9861c4"
      },
      "execution_count": null,
      "outputs": [
        {
          "output_type": "stream",
          "name": "stdout",
          "text": [
            "Field 1: Field A is located in Texas with reserves of 500000 barrels.\n",
            "Field 2: Field B is located in Alaska with reserves of 800000 barrels.\n",
            "Field 3: Field C is located in North Sea with reserves of 300000 barrels.\n",
            "Field 4: Field D is located in Gulf of Mexico with reserves of 600000 barrels.\n"
          ]
        }
      ]
    },
    {
      "cell_type": "code",
      "source": [],
      "metadata": {
        "id": "KwM0WKyoixzN"
      },
      "execution_count": null,
      "outputs": []
    },
    {
      "cell_type": "markdown",
      "source": [
        "###***Counter() function***\n",
        "* Help to count the number of occurences of elements in a list\n"
      ],
      "metadata": {
        "id": "Jm8YGBr4jMuu"
      }
    },
    {
      "cell_type": "code",
      "source": [
        "print(location)"
      ],
      "metadata": {
        "colab": {
          "base_uri": "https://localhost:8080/"
        },
        "id": "J6Mh0FpkjOvf",
        "outputId": "0b39391a-5e11-4099-d514-f1f374fd5252"
      },
      "execution_count": null,
      "outputs": [
        {
          "output_type": "stream",
          "name": "stdout",
          "text": [
            "('Texas', 'Alaska', 'North Sea', 'Gulf of Mexico')\n"
          ]
        }
      ]
    },
    {
      "cell_type": "code",
      "source": [
        "from collections import Counter\n",
        "count = Counter(location)\n",
        "print(count)"
      ],
      "metadata": {
        "colab": {
          "base_uri": "https://localhost:8080/"
        },
        "id": "moFWRaUgjWpX",
        "outputId": "4d26e99e-f4aa-4a61-839b-c1dffde8e666"
      },
      "execution_count": null,
      "outputs": [
        {
          "output_type": "stream",
          "name": "stdout",
          "text": [
            "Counter({'Texas': 1, 'Alaska': 1, 'North Sea': 1, 'Gulf of Mexico': 1})\n"
          ]
        }
      ]
    },
    {
      "cell_type": "code",
      "source": [],
      "metadata": {
        "id": "-6NpD_VljYxP"
      },
      "execution_count": null,
      "outputs": []
    }
  ]
}