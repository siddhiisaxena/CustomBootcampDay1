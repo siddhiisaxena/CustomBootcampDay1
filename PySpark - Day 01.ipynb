{
 "cells": [
  {
   "cell_type": "markdown",
   "metadata": {
    "application/vnd.databricks.v1+cell": {
     "cellMetadata": {},
     "inputWidgets": {},
     "nuid": "16556f08-1502-4532-b402-0e87f2974452",
     "showTitle": false,
     "title": ""
    }
   },
   "source": [
    "# **Spark**\n",
    "\n",
    "* If Data contains velocity, variety, volume & veracity.\n",
    "* Hadoop only works on **'On Disk'** computation and **Batch Data**. It has lengthy and complex framework. Low Cost\n",
    "* Hadoop has two main components - \n",
    "    * **HDFS** - Stores data in distributed fashion. Scaling is easier here.\n",
    "    * **Map Reduce** - used for distributed processing.\n",
    "* If you want to run SQL on hadoop then you need to learn HIVE\n",
    "* Hbase, Apache Storm (Handling realtime data), oozie, Scoop, pig.\n",
    "* Spark supports both realtime and batch processing. High Cost\n",
    "* In memory computation is supported i.e transformations are done on RAM, read write happens on disk. Supports tools like Spark SWL, Mlib, GraphX, and Spark Streaming.\n",
    "* Spark is simple and user friendly system.\n",
    "* If you want to do 10 different things you need to operate 10 different tools, to overcome this Spark was introduced. It is 100x faster than Hadoop. This is made possible by reducing the number of read/write iperations on the disk.\n",
    "* 350+ projects are there under Apache Foundation, Spark is one of them.\n",
    "* Spark can be used with Java, Scala, Python, SQL, and R.\n",
    "* To run Spark, Databricks was introduced.\n",
    "* Microsoft Fabric, Azure Synapse, AWS Blue.\n",
    "* Databricks is preffered to run Spark. (Why??)\n",
    "\n",
    "\n",
    "Apache Spark unifies\n",
    "  * Batch Processing\n",
    "  * Stream Analytics\n",
    "  * Machine Learning\n",
    "  * SQL Processing\n",
    "\n",
    "\n",
    "\n",
    "#### **Spark's Basic Architecture**\n",
    "------\n",
    "![Alt text](https://hacked.work/blog/wp-content/uploads/2015/03/spark-cluster.png)\n",
    "\n",
    "\n",
    "\n",
    "***Apache Spark works in a master-slave architecture where the master is called “Driver” and slaves are called “Workers”. When you run a Spark application, Spark Driver creates a context (Spark Context) that is an entry point to your application, and all operations (transformations and actions) are executed on worker nodes, and the resources are managed by Cluster Manager.***\n",
    "\n",
    "\n",
    "* **Driver Program** – The process running the main() function of the application and creating the SparkContext. It is also the program/job, written by the developers which is submitted to Spark for processing. Driver program will partition the data. There will always be only 1 driver program.\n",
    "\n",
    "\n",
    "* **Spark Context** – Spark Context is the entry point to use Spark Core services and features. It sets up internal services and establishes a connection to a Spark execution environment. It communicates with cluster and to create RDD. Every Spark job creates a spark context object before it can do any processing. It allows your Spark Application to access Spark Context with the help of resource manager. It will start the Driver Program. ***There is one Spark Context per JVM***\n",
    "\n",
    "\n",
    "\n",
    "* **Cluster Manager** – Spark uses cluster manager to acquire resources across the cluster for executing a job. However, Spark is also agnostic of cluster managers and does not really care how it can get its hands on cluster resources. It supports the following cluster managers\n",
    "\n",
    "    * Spark standalone cluster manager - A simple cluster manager included with spark that makes it easy to set up a cluster\n",
    "    * YARN - resource manager in hadoop2\n",
    "    * Mesos\n",
    "    * Kubernetes\n",
    "\n",
    "\n",
    "* **Worker Node** – Worker Nodes are nodes which actually do data processing/heavy lifting on data.\n",
    "\n",
    "* **Executor** – Executors are independent processes which run inside the Worker Nodes in their own JVMs. Data processing is actually done by these executor processes.\n",
    "\n",
    "\n",
    "* **Cache** – Data stored in physical memory. Jobs can cache data so that it does not need to re-compute RDDs and hence increases the performance storing intermediary data.\n",
    "\n",
    "\n",
    "* **Task** – A task is a unit of work performed independently by the executor on one partition.\n",
    "\n",
    "\n",
    "* **Partition** – Spark manages its data by splitting data into manageable chunks across the nodes in a cluster. These chunks are called partitions. The splitting of data is done in a way so that it leads to reduction of network traffic and also optimise the operations to be performed on the data.\n",
    "\n",
    "[Imp Link](https://www.mrstonewallin.com/post/spark-knowledge-series-i)\n",
    "\n",
    "\n",
    "\n",
    "#### **Spark Deployment Modes: Client Mode vs Cluster Mode**\n",
    "---\n",
    "<img src=\"https://th.bing.com/th/id/R.5b4223cfa8490f2a8ac960b3e3d3738b?rik=sN29WUb1k7JWxw&riu=http%3a%2f%2fblog.brainlounge.de%2fmemoryleaks%2f2018-12-getting-started-with-spark-on-kubernetes-deploy-modes.png&ehk=zTXeqqjcdNpkjexQ77%2bl3JSIvFN1ljY4scGGGNdGo6Y%3d&risl=&pid=ImgRaw&r=0\" width=\"550\" height=\"300\" />\n",
    "\n",
    "* **Cluster Mode:** In cluster mode, the driver runs on one of the worker nodes, and this node shows as a driver on the Spark Web UI of your application. cluster mode is used to run production jobs.\n",
    "* **Client Mode:** In client mode, the driver runs locally from where you are submitting your application using spark-submit command. client mode is majorly used for interactive and debugging purposes. Note that in client mode only the driver runs locally and all tasks run on cluster worker nodes.\n",
    "\n",
    "\n",
    "#### **Spark Toolset**\n",
    "\n",
    "-------\n",
    "\n",
    "\n",
    "\n",
    "<img src=\"https://miro.medium.com/max/1104/1*_Dy9w0lUXIeH6WHALkQC-g.png\" width=\"400\" height=\"400\" />\n",
    "\n",
    "#### **Data Structures in Spark: RDD, DataFrame, Dataset**\n",
    "------\n",
    "\n",
    "* **Resilient Distributed Dataset**: resilient, immutable, collection of data. \n",
    "  * **Resilient:** RDDs are fault tolerant\n",
    "  * **Collection of Data:** RDD holds data and appears to be scala collection.\n",
    "  * **Partition:** Sparks break RDD into smaller cgunks of data.\n",
    "  * **Distributed:** Spark distributes the partition along the cluster.\n",
    "\\n\n",
    "\n",
    "* **Dataframe:** Most common Structured API and simply represents a table of data with rows and columns. Similar to DB table. The list that defines the columns and the types within those columns is called Schema.\n",
    "\n",
    "\n",
    "* **Dataset:** "
   ]
  },
  {
   "cell_type": "code",
   "execution_count": 0,
   "metadata": {
    "application/vnd.databricks.v1+cell": {
     "cellMetadata": {},
     "inputWidgets": {},
     "nuid": "b9fa26a5-bc8a-46a7-8602-d196ebde1a62",
     "showTitle": false,
     "title": ""
    }
   },
   "outputs": [],
   "source": [
    "import pyspark\n",
    "import findspark\n",
    "findspark.init('/opt/anaconda3/lib/python3.11/site-packages/pyspark')\n",
    "from pyspark import SparkContext\n",
    "# pyspark.__version__"
   ]
  },
  {
   "cell_type": "code",
   "execution_count": 0,
   "metadata": {
    "application/vnd.databricks.v1+cell": {
     "cellMetadata": {},
     "inputWidgets": {},
     "nuid": "5be7d562-4df0-4d6b-969d-329bb98d4fcf",
     "showTitle": false,
     "title": ""
    },
    "scrolled": true
   },
   "outputs": [],
   "source": [
    "conf=pyspark.SparkConf().setMaster('local').setAppName(\"first\")\n",
    "sc = SparkContext(conf = conf)"
   ]
  },
  {
   "cell_type": "code",
   "execution_count": 0,
   "metadata": {
    "application/vnd.databricks.v1+cell": {
     "cellMetadata": {},
     "inputWidgets": {},
     "nuid": "4ade11fa-ff3c-439c-9b2a-6737dd56cf29",
     "showTitle": false,
     "title": ""
    }
   },
   "outputs": [],
   "source": [
    "rdd = sc.parallelize([1,2,3])"
   ]
  },
  {
   "cell_type": "code",
   "execution_count": 0,
   "metadata": {
    "application/vnd.databricks.v1+cell": {
     "cellMetadata": {},
     "inputWidgets": {},
     "nuid": "aa67a13f-26c0-4c7d-ba00-4cab742d935d",
     "showTitle": false,
     "title": ""
    }
   },
   "outputs": [],
   "source": [
    "rdd.collect()"
   ]
  },
  {
   "cell_type": "code",
   "execution_count": 0,
   "metadata": {
    "application/vnd.databricks.v1+cell": {
     "cellMetadata": {},
     "inputWidgets": {},
     "nuid": "b82c42ff-a351-45e0-b909-372ab5aa9637",
     "showTitle": false,
     "title": ""
    }
   },
   "outputs": [],
   "source": [
    "sc.stop()"
   ]
  },
  {
   "cell_type": "code",
   "execution_count": 0,
   "metadata": {
    "application/vnd.databricks.v1+cell": {
     "cellMetadata": {},
     "inputWidgets": {},
     "nuid": "da7c614b-4378-4f2e-b543-5901a7f34140",
     "showTitle": false,
     "title": ""
    }
   },
   "outputs": [],
   "source": [
    "sc"
   ]
  },
  {
   "cell_type": "code",
   "execution_count": 0,
   "metadata": {
    "application/vnd.databricks.v1+cell": {
     "cellMetadata": {},
     "inputWidgets": {},
     "nuid": "3f64b78e-7620-41e0-8fa8-bead8e209490",
     "showTitle": false,
     "title": ""
    }
   },
   "outputs": [],
   "source": [
    "rdd2 = sc.parallelize(['Python','SQL','PySpark'])"
   ]
  },
  {
   "cell_type": "code",
   "execution_count": 0,
   "metadata": {
    "application/vnd.databricks.v1+cell": {
     "cellMetadata": {},
     "inputWidgets": {},
     "nuid": "17d249f8-e4d8-4ed4-89ec-c635b02b9e38",
     "showTitle": false,
     "title": ""
    }
   },
   "outputs": [],
   "source": [
    "rdd2.collect()"
   ]
  },
  {
   "cell_type": "code",
   "execution_count": 0,
   "metadata": {
    "application/vnd.databricks.v1+cell": {
     "cellMetadata": {},
     "inputWidgets": {},
     "nuid": "df7ec859-a253-4305-b95c-7c4ae8b0823e",
     "showTitle": false,
     "title": ""
    }
   },
   "outputs": [],
   "source": [
    "type(rdd2)"
   ]
  },
  {
   "cell_type": "code",
   "execution_count": 0,
   "metadata": {
    "application/vnd.databricks.v1+cell": {
     "cellMetadata": {},
     "inputWidgets": {},
     "nuid": "c4f24d1c-a06c-4f30-a88a-a95f8e123dc1",
     "showTitle": false,
     "title": ""
    }
   },
   "outputs": [],
   "source": [
    "rdd3 = sc.parallelize([1,2,3,4,5,6,7,8,9])\n",
    "rdd3.collect()\n",
    "type(rdd3)\n"
   ]
  },
  {
   "cell_type": "code",
   "execution_count": 0,
   "metadata": {
    "application/vnd.databricks.v1+cell": {
     "cellMetadata": {},
     "inputWidgets": {},
     "nuid": "1fa30eb5-194d-41ae-850d-3e8c326b5e3d",
     "showTitle": false,
     "title": ""
    }
   },
   "outputs": [],
   "source": [
    "rdd4 = rdd3.map(lambda x:x*2)"
   ]
  },
  {
   "cell_type": "code",
   "execution_count": 0,
   "metadata": {
    "application/vnd.databricks.v1+cell": {
     "cellMetadata": {},
     "inputWidgets": {},
     "nuid": "867a857c-f5f5-45f5-80f5-077baecce679",
     "showTitle": false,
     "title": ""
    }
   },
   "outputs": [],
   "source": [
    "rdd4.collect()"
   ]
  },
  {
   "cell_type": "code",
   "execution_count": 0,
   "metadata": {
    "application/vnd.databricks.v1+cell": {
     "cellMetadata": {},
     "inputWidgets": {},
     "nuid": "69e87e38-9e33-4fb5-8270-a26f425c2273",
     "showTitle": false,
     "title": ""
    }
   },
   "outputs": [],
   "source": [
    "findspark.find()"
   ]
  },
  {
   "cell_type": "code",
   "execution_count": 0,
   "metadata": {
    "application/vnd.databricks.v1+cell": {
     "cellMetadata": {},
     "inputWidgets": {},
     "nuid": "483f3e7c-1120-4988-b892-0f8382d5df88",
     "showTitle": false,
     "title": ""
    }
   },
   "outputs": [],
   "source": [
    "rdd5 = rdd3.filter(lambda x:x%2==0)"
   ]
  },
  {
   "cell_type": "code",
   "execution_count": 0,
   "metadata": {
    "application/vnd.databricks.v1+cell": {
     "cellMetadata": {},
     "inputWidgets": {},
     "nuid": "50c121cb-97f7-428d-8284-8ab836189636",
     "showTitle": false,
     "title": ""
    }
   },
   "outputs": [],
   "source": [
    "rdd5.collect()"
   ]
  },
  {
   "cell_type": "code",
   "execution_count": 0,
   "metadata": {
    "application/vnd.databricks.v1+cell": {
     "cellMetadata": {},
     "inputWidgets": {},
     "nuid": "af865f1a-756c-4638-9638-94193e6d0325",
     "showTitle": false,
     "title": ""
    }
   },
   "outputs": [],
   "source": [
    "from pyspark.sql import SparkSession"
   ]
  },
  {
   "cell_type": "code",
   "execution_count": 0,
   "metadata": {
    "application/vnd.databricks.v1+cell": {
     "cellMetadata": {},
     "inputWidgets": {},
     "nuid": "3561f970-48c1-4c0b-8eb5-4c7015604f72",
     "showTitle": false,
     "title": ""
    }
   },
   "outputs": [],
   "source": [
    "#Create a session\n",
    "spark = SparkSession.builder.appName(\"RDDExample\").getOrCreate()"
   ]
  },
  {
   "cell_type": "code",
   "execution_count": 0,
   "metadata": {
    "application/vnd.databricks.v1+cell": {
     "cellMetadata": {},
     "inputWidgets": {},
     "nuid": "9cc0a779-84be-4b52-8d3d-d114b1966c58",
     "showTitle": false,
     "title": ""
    }
   },
   "outputs": [],
   "source": [
    "df = spark.createDataFrame([(1,2,3)])\n",
    "df.show()"
   ]
  },
  {
   "cell_type": "code",
   "execution_count": 0,
   "metadata": {
    "application/vnd.databricks.v1+cell": {
     "cellMetadata": {},
     "inputWidgets": {},
     "nuid": "173255dc-9136-48a0-ad77-58f6a2e79d9e",
     "showTitle": false,
     "title": ""
    }
   },
   "outputs": [],
   "source": [
    "df = spark.createDataFrame([(1,2,3),(4,5,6)])\n",
    "df.show()"
   ]
  },
  {
   "cell_type": "code",
   "execution_count": 0,
   "metadata": {
    "application/vnd.databricks.v1+cell": {
     "cellMetadata": {},
     "inputWidgets": {},
     "nuid": "100b1b89-786e-420a-ac2d-f9feff6b586e",
     "showTitle": false,
     "title": ""
    }
   },
   "outputs": [],
   "source": [
    "from datetime import datetime, date\n",
    "import pandas as pd\n",
    "from pyspark.sql import Row\n",
    "df = spark.createDataFrame([Row(a=1, b=2., c='string1', d=date(2000, 1, 1), e=datetime(2000, 1, 1, 12, 0)),    \n",
    "                            Row(a=2, b=3., c='string2', d=date(2000, 2, 1), e=datetime(2000, 1, 2, 12, 0)),    \n",
    "                            Row(a=4, b=5., c='string3', d=date(2000, 3, 1), e=datetime(2000, 1, 3, 12, 0))])\n",
    "df"
   ]
  },
  {
   "cell_type": "code",
   "execution_count": 0,
   "metadata": {
    "application/vnd.databricks.v1+cell": {
     "cellMetadata": {},
     "inputWidgets": {},
     "nuid": "5ee74d51-b875-4063-820d-03dde0f34f22",
     "showTitle": false,
     "title": ""
    }
   },
   "outputs": [],
   "source": [
    "df.show()"
   ]
  },
  {
   "cell_type": "code",
   "execution_count": 0,
   "metadata": {
    "application/vnd.databricks.v1+cell": {
     "cellMetadata": {},
     "inputWidgets": {},
     "nuid": "db6417da-2706-4642-ae3f-760faf497247",
     "showTitle": false,
     "title": ""
    }
   },
   "outputs": [],
   "source": [
    "df = spark.createDataFrame([\n",
    "    (1, 2., 'string1', date(2000, 1, 1), datetime(2000, 1, 1, 12, 0)),\n",
    "    (2, 3., 'string2', date(2000, 2, 1), datetime(2000, 1, 2, 12, 0)),\n",
    "    (3, 4., 'string3', date(2000, 3, 1), datetime(2000, 1, 3, 12, 0))\n",
    "], schema='a long, b double, c string, d date, e timestamp')\n",
    "df"
   ]
  },
  {
   "cell_type": "code",
   "execution_count": 0,
   "metadata": {
    "application/vnd.databricks.v1+cell": {
     "cellMetadata": {},
     "inputWidgets": {},
     "nuid": "3c670ab6-be6f-449c-9c74-aa364175b1e0",
     "showTitle": false,
     "title": ""
    }
   },
   "outputs": [],
   "source": [
    "data = [\n",
    "    (1, 2., 'string1', date(2000, 1, 1), datetime(2000, 1, 1, 12, 0)),\n",
    "    (2, 3., 'string2', date(2000, 2, 1), datetime(2000, 1, 2, 12, 0)),\n",
    "    (3, 4., 'string3', date(2000, 3, 1), datetime(2000, 1, 3, 12, 0))\n",
    "]\n",
    "\n",
    "schema = 'a long, b double, c string, d date, e timestamp'"
   ]
  },
  {
   "cell_type": "code",
   "execution_count": 0,
   "metadata": {
    "application/vnd.databricks.v1+cell": {
     "cellMetadata": {},
     "inputWidgets": {},
     "nuid": "d2f1f8fc-e8cc-4693-b727-7050bd021840",
     "showTitle": false,
     "title": ""
    }
   },
   "outputs": [],
   "source": [
    "df2 = spark.createDataFrame(data, schema)\n",
    "df2.show()"
   ]
  },
  {
   "cell_type": "code",
   "execution_count": 0,
   "metadata": {
    "application/vnd.databricks.v1+cell": {
     "cellMetadata": {},
     "inputWidgets": {},
     "nuid": "58de2942-f7fb-4591-a6e8-501c8bfc7dc7",
     "showTitle": false,
     "title": ""
    }
   },
   "outputs": [],
   "source": [
    "df2.dtypes"
   ]
  },
  {
   "cell_type": "code",
   "execution_count": 0,
   "metadata": {
    "application/vnd.databricks.v1+cell": {
     "cellMetadata": {},
     "inputWidgets": {},
     "nuid": "d85f8c15-17d1-4e2e-a592-29074a5eedf7",
     "showTitle": false,
     "title": ""
    }
   },
   "outputs": [],
   "source": [
    "data2 = [(1, 'a', 'z', 777000, 'India'), (2, 'b', 'y', 89000, 'India')]\n",
    "\n",
    "schema2 = 'id int, name string, last_name string, mo int, country string'\n",
    "\n",
    "df3 = spark.createDataFrame(data2, schema2)\n",
    "\n"
   ]
  },
  {
   "cell_type": "code",
   "execution_count": 0,
   "metadata": {
    "application/vnd.databricks.v1+cell": {
     "cellMetadata": {},
     "inputWidgets": {},
     "nuid": "4be755a9-b6d6-4d8c-94c0-7754bc70c884",
     "showTitle": false,
     "title": ""
    }
   },
   "outputs": [],
   "source": [
    "df3.show()"
   ]
  },
  {
   "cell_type": "code",
   "execution_count": 0,
   "metadata": {
    "application/vnd.databricks.v1+cell": {
     "cellMetadata": {},
     "inputWidgets": {},
     "nuid": "5ab19fa4-5dd3-4e4f-aa60-6bb8f6d70df7",
     "showTitle": false,
     "title": ""
    }
   },
   "outputs": [],
   "source": [
    "df3.dtypes"
   ]
  },
  {
   "cell_type": "code",
   "execution_count": 0,
   "metadata": {
    "application/vnd.databricks.v1+cell": {
     "cellMetadata": {},
     "inputWidgets": {},
     "nuid": "f272237b-620f-47f5-a07a-dec0e66534a9",
     "showTitle": false,
     "title": ""
    }
   },
   "outputs": [],
   "source": [
    "df3.printSchema()"
   ]
  },
  {
   "cell_type": "code",
   "execution_count": 0,
   "metadata": {
    "application/vnd.databricks.v1+cell": {
     "cellMetadata": {},
     "inputWidgets": {},
     "nuid": "113fe12d-578c-4632-95a0-5c37a4ad51e1",
     "showTitle": false,
     "title": ""
    }
   },
   "outputs": [],
   "source": [
    "users = [{\n",
    "    \"id\":1,\n",
    "    \"first_name\":\"Saumya\",\n",
    "    \"amount_paid\":78000\n",
    "},\n",
    "{\n",
    "    \"id\":2,\n",
    "    \"first_name\":\"Shreya\",\n",
    "    \"amount_paid\":8000\n",
    "},\n",
    "{\n",
    "    \"id\":3,\n",
    "    \"first_name\":\"Anushka\",\n",
    "    \"amount_paid\":8990\n",
    "}]\n",
    "\n",
    "df4 = spark.createDataFrame(users)"
   ]
  },
  {
   "cell_type": "code",
   "execution_count": 0,
   "metadata": {
    "application/vnd.databricks.v1+cell": {
     "cellMetadata": {},
     "inputWidgets": {},
     "nuid": "c6b6b1e6-8d70-460b-b96f-56a149957321",
     "showTitle": false,
     "title": ""
    }
   },
   "outputs": [],
   "source": [
    "df4.show()"
   ]
  },
  {
   "cell_type": "code",
   "execution_count": 0,
   "metadata": {
    "application/vnd.databricks.v1+cell": {
     "cellMetadata": {},
     "inputWidgets": {},
     "nuid": "58083392-c3b6-4ab0-83c6-2de48f5c5e95",
     "showTitle": false,
     "title": ""
    }
   },
   "outputs": [],
   "source": [
    "#path = '/home/labuser/Desktop/Untitled Folder/sales_data.csv'\n",
    "path = '/home/labuser/Desktop/Untitled Folder/employees.csv'\n",
    "df = spark.read.option(\"header\", True).option(\"inferSchema\", True).csv('employees.csv')"
   ]
  },
  {
   "cell_type": "code",
   "execution_count": 0,
   "metadata": {
    "application/vnd.databricks.v1+cell": {
     "cellMetadata": {},
     "inputWidgets": {},
     "nuid": "cb5753d6-e725-4192-8297-c9dc0ccfbca1",
     "showTitle": false,
     "title": ""
    }
   },
   "outputs": [],
   "source": [
    "df6 = spark.read.csv(path, header = True, inferSchema = True)"
   ]
  },
  {
   "cell_type": "code",
   "execution_count": 0,
   "metadata": {
    "application/vnd.databricks.v1+cell": {
     "cellMetadata": {},
     "inputWidgets": {},
     "nuid": "3edabcb4-c7c0-40bc-9145-cafd78c3b3f4",
     "showTitle": false,
     "title": ""
    }
   },
   "outputs": [],
   "source": [
    "df.show()"
   ]
  },
  {
   "cell_type": "code",
   "execution_count": 0,
   "metadata": {
    "application/vnd.databricks.v1+cell": {
     "cellMetadata": {},
     "inputWidgets": {},
     "nuid": "7374e899-666d-4c48-93ad-76a921e80e03",
     "showTitle": false,
     "title": ""
    }
   },
   "outputs": [],
   "source": [
    "df6.show()"
   ]
  },
  {
   "cell_type": "code",
   "execution_count": 0,
   "metadata": {
    "application/vnd.databricks.v1+cell": {
     "cellMetadata": {},
     "inputWidgets": {},
     "nuid": "f1d7e447-fb90-4d70-9e38-bcde311c5ff9",
     "showTitle": false,
     "title": ""
    }
   },
   "outputs": [],
   "source": [
    "df6.printSchema()"
   ]
  },
  {
   "cell_type": "code",
   "execution_count": 0,
   "metadata": {
    "application/vnd.databricks.v1+cell": {
     "cellMetadata": {},
     "inputWidgets": {},
     "nuid": "ce019bc0-287a-4452-a5ba-a944a5cf5d0d",
     "showTitle": false,
     "title": ""
    }
   },
   "outputs": [],
   "source": [
    "df.dtypes"
   ]
  },
  {
   "cell_type": "code",
   "execution_count": 0,
   "metadata": {
    "application/vnd.databricks.v1+cell": {
     "cellMetadata": {},
     "inputWidgets": {},
     "nuid": "478bb313-7e51-41ab-8727-713017f95ad6",
     "showTitle": false,
     "title": ""
    }
   },
   "outputs": [],
   "source": [
    "df.select(\"First Name\",\"Gender\")"
   ]
  },
  {
   "cell_type": "code",
   "execution_count": 0,
   "metadata": {
    "application/vnd.databricks.v1+cell": {
     "cellMetadata": {},
     "inputWidgets": {},
     "nuid": "ab3c3b56-47cc-4a9e-84b7-6ede6e54145c",
     "showTitle": false,
     "title": ""
    }
   },
   "outputs": [],
   "source": [
    "from pyspark.sql.functions import *\n",
    "df.select(col(\"First Name\").alias(\"Forename\")).show()\n",
    "# We can only see the column that we are trying to rename"
   ]
  },
  {
   "cell_type": "code",
   "execution_count": 0,
   "metadata": {
    "application/vnd.databricks.v1+cell": {
     "cellMetadata": {},
     "inputWidgets": {},
     "nuid": "e7aa8be9-9a23-42bb-9e3d-43e78eaf3a1e",
     "showTitle": false,
     "title": ""
    }
   },
   "outputs": [],
   "source": [
    "df.select(\"First Name\", col(\"Gender\")).show()"
   ]
  },
  {
   "cell_type": "code",
   "execution_count": 0,
   "metadata": {
    "application/vnd.databricks.v1+cell": {
     "cellMetadata": {},
     "inputWidgets": {},
     "nuid": "bfdb8cb1-90e7-46ea-866a-a952f19da2a2",
     "showTitle": false,
     "title": ""
    }
   },
   "outputs": [],
   "source": [
    "df.select(\"First Name\", col(\"Gender\"), df[\"Team\"]).show()"
   ]
  },
  {
   "cell_type": "code",
   "execution_count": 0,
   "metadata": {
    "application/vnd.databricks.v1+cell": {
     "cellMetadata": {},
     "inputWidgets": {},
     "nuid": "374e62c3-918a-4728-978f-1a7981ec58de",
     "showTitle": false,
     "title": ""
    }
   },
   "outputs": [],
   "source": [
    "df.withColumnRenamed(\"First Name\", \"Name\").show()\n",
    "\n",
    "## We can see the whole dataframe here"
   ]
  },
  {
   "cell_type": "code",
   "execution_count": 0,
   "metadata": {
    "application/vnd.databricks.v1+cell": {
     "cellMetadata": {},
     "inputWidgets": {},
     "nuid": "cead0eed-07a3-4ae7-898a-d5a27692f9f6",
     "showTitle": false,
     "title": ""
    }
   },
   "outputs": [],
   "source": [
    "df.printSchema()"
   ]
  },
  {
   "cell_type": "code",
   "execution_count": 0,
   "metadata": {
    "application/vnd.databricks.v1+cell": {
     "cellMetadata": {},
     "inputWidgets": {},
     "nuid": "fe6a3a12-f0a5-4de9-9524-bc9a1fdc5d56",
     "showTitle": false,
     "title": ""
    }
   },
   "outputs": [],
   "source": [
    "df.select(concat(\"Start Date\", lit(\" \"),\"Last Login Time\",).alias(\"Date & Time\")).show()\n",
    "# Use pySpark Functions inside DataFrame Functions\n",
    "\n",
    "# DataFrame functions are used like df.functionName() - Ususally in camelCase\n",
    "#PySpark Functions can be called inside DataFrame Functions"
   ]
  },
  {
   "cell_type": "code",
   "execution_count": 0,
   "metadata": {
    "application/vnd.databricks.v1+cell": {
     "cellMetadata": {},
     "inputWidgets": {},
     "nuid": "125554bb-9c53-414f-b370-000516cc273e",
     "showTitle": false,
     "title": ""
    }
   },
   "outputs": [],
   "source": [
    "df_final  = df.drop(\"Start Date\", \"Last Login Time\")"
   ]
  },
  {
   "cell_type": "code",
   "execution_count": 0,
   "metadata": {
    "application/vnd.databricks.v1+cell": {
     "cellMetadata": {},
     "inputWidgets": {},
     "nuid": "9c71e1a5-cfed-45d5-a566-e618f3d7bc1a",
     "showTitle": false,
     "title": ""
    }
   },
   "outputs": [],
   "source": [
    "df_final.write.csv(\"/home/labuser/Desktop/Untitled Folder/Final_employees2.csv\")"
   ]
  },
  {
   "cell_type": "code",
   "execution_count": 0,
   "metadata": {
    "application/vnd.databricks.v1+cell": {
     "cellMetadata": {},
     "inputWidgets": {},
     "nuid": "66cefdbb-904b-4069-bed0-84d82746d794",
     "showTitle": false,
     "title": ""
    }
   },
   "outputs": [],
   "source": [
    "from pyspark.sql.types import *"
   ]
  },
  {
   "cell_type": "code",
   "execution_count": 0,
   "metadata": {
    "application/vnd.databricks.v1+cell": {
     "cellMetadata": {},
     "inputWidgets": {},
     "nuid": "569d9cc9-bd47-4c30-b475-6f72a56402b1",
     "showTitle": false,
     "title": ""
    }
   },
   "outputs": [],
   "source": [
    "data = [(1,'a', 30), (2, \"b\", 66)]\n",
    "\n",
    "userSchema = StructType([StructField(\"id\", IntegerType()),\n",
    "                        StructField(\"name\", StringType()),\n",
    "                        StructField(\"age\", IntegerType())])\n",
    "\n",
    "df = spark.createDataFrame(data, userSchema)"
   ]
  },
  {
   "cell_type": "code",
   "execution_count": 0,
   "metadata": {
    "application/vnd.databricks.v1+cell": {
     "cellMetadata": {},
     "inputWidgets": {},
     "nuid": "ffeb5216-6294-4d87-9c90-b1817f690ec7",
     "showTitle": false,
     "title": ""
    }
   },
   "outputs": [],
   "source": [
    "df"
   ]
  },
  {
   "cell_type": "code",
   "execution_count": 0,
   "metadata": {
    "application/vnd.databricks.v1+cell": {
     "cellMetadata": {},
     "inputWidgets": {},
     "nuid": "359822e1-c46b-467f-ac96-26ea7dc0cc98",
     "showTitle": false,
     "title": ""
    }
   },
   "outputs": [],
   "source": []
  }
 ],
 "metadata": {
  "application/vnd.databricks.v1+notebook": {
   "dashboards": [],
   "language": "python",
   "notebookMetadata": {},
   "notebookName": "PySpark - Day 01",
   "widgets": {}
  },
  "kernelspec": {
   "display_name": "Python 3 (ipykernel)",
   "language": "python",
   "name": "python3"
  },
  "language_info": {
   "codemirror_mode": {
    "name": "ipython",
    "version": 3
   },
   "file_extension": ".py",
   "mimetype": "text/x-python",
   "name": "python",
   "nbconvert_exporter": "python",
   "pygments_lexer": "ipython3",
   "version": "3.11.4"
  }
 },
 "nbformat": 4,
 "nbformat_minor": 0
}
