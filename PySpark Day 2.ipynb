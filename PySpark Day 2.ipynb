{
 "cells": [
  {
   "cell_type": "code",
   "execution_count": 0,
   "metadata": {
    "application/vnd.databricks.v1+cell": {
     "cellMetadata": {},
     "inputWidgets": {},
     "nuid": "1a93935c-bc88-4a02-8db8-aa8931c3fed9",
     "showTitle": false,
     "title": ""
    }
   },
   "outputs": [],
   "source": [
    "import pyspark\n",
    "import findspark\n",
    "findspark.init('/opt/anaconda3/lib/python3.11/site-packages/pyspark')\n",
    "from pyspark import SparkContext\n",
    "from pyspark.sql.types import *\n",
    "# pyspark.__version__\n",
    "\n",
    "conf=pyspark.SparkConf().setMaster('local').setAppName(\"first\")\n",
    "sc = SparkContext(conf = conf)"
   ]
  },
  {
   "cell_type": "code",
   "execution_count": 0,
   "metadata": {
    "application/vnd.databricks.v1+cell": {
     "cellMetadata": {},
     "inputWidgets": {},
     "nuid": "16627180-9d31-45ca-8018-5412126b5485",
     "showTitle": false,
     "title": ""
    }
   },
   "outputs": [],
   "source": [
    "sc.stop()"
   ]
  },
  {
   "cell_type": "code",
   "execution_count": 0,
   "metadata": {
    "application/vnd.databricks.v1+cell": {
     "cellMetadata": {},
     "inputWidgets": {},
     "nuid": "e1230dad-914b-496d-8592-917f6d26a172",
     "showTitle": false,
     "title": ""
    }
   },
   "outputs": [],
   "source": [
    "#Create a session\n",
    "from pyspark.sql import SparkSession\n",
    "spark = SparkSession.builder.appName(\"Example\").getOrCreate()"
   ]
  },
  {
   "cell_type": "code",
   "execution_count": 0,
   "metadata": {
    "application/vnd.databricks.v1+cell": {
     "cellMetadata": {},
     "inputWidgets": {},
     "nuid": "41cd0ad4-4d66-4466-991f-5c22bea5f2f1",
     "showTitle": false,
     "title": ""
    }
   },
   "outputs": [],
   "source": [
    "data = [(1,'a', 30), (2, \"b\", 66)]\n",
    "userSchema = StructType([StructField(\"id\", IntegerType()),\n",
    "                        StructField(\"name\", StringType()),\n",
    "                        StructField(\"age\", IntegerType())])\n",
    "\n",
    "df = spark.createDataFrame(data, userSchema)"
   ]
  },
  {
   "cell_type": "code",
   "execution_count": 0,
   "metadata": {
    "application/vnd.databricks.v1+cell": {
     "cellMetadata": {},
     "inputWidgets": {},
     "nuid": "01a0c7ec-a0ad-4ec7-95bb-c11fef05b0a5",
     "showTitle": false,
     "title": ""
    }
   },
   "outputs": [],
   "source": [
    "df.show()"
   ]
  },
  {
   "cell_type": "code",
   "execution_count": 0,
   "metadata": {
    "application/vnd.databricks.v1+cell": {
     "cellMetadata": {},
     "inputWidgets": {},
     "nuid": "b242748c-345a-45ec-8b6e-e4e3850e14c1",
     "showTitle": false,
     "title": ""
    }
   },
   "outputs": [],
   "source": [
    "data2 = [\n",
    "    (1, \"Alice\", [\"Reading\", \"Hiking\"]),\n",
    "    (2, \"Bob\", [\"Swimming\", \"Gardening\", \"Painting\"]),\n",
    "    (3, \"Charlie\", [\"Cooking\"]),\n",
    "    (4, \"David\", [\"Photography\", \"Skiing\", \"Cooking\"])\n",
    "]"
   ]
  },
  {
   "cell_type": "code",
   "execution_count": 0,
   "metadata": {
    "application/vnd.databricks.v1+cell": {
     "cellMetadata": {},
     "inputWidgets": {},
     "nuid": "194449c1-ae91-4c15-a056-47d238c401d3",
     "showTitle": false,
     "title": ""
    }
   },
   "outputs": [],
   "source": [
    "schema2 = StructType([\n",
    "    StructField(\"id\", IntegerType(), True),\n",
    "    StructField(\"name\", StringType(), True),\n",
    "    StructField(\"hobbies\", ArrayType(StringType(), True), True)\n",
    "])\n",
    "\n",
    "\n",
    "df2 = spark.createDataFrame(data2, schema2)"
   ]
  },
  {
   "cell_type": "code",
   "execution_count": 0,
   "metadata": {
    "application/vnd.databricks.v1+cell": {
     "cellMetadata": {},
     "inputWidgets": {},
     "nuid": "029dff09-81e9-48e5-b856-3d6b3b51bbf5",
     "showTitle": false,
     "title": ""
    }
   },
   "outputs": [],
   "source": [
    "df2.show()"
   ]
  },
  {
   "cell_type": "code",
   "execution_count": 0,
   "metadata": {
    "application/vnd.databricks.v1+cell": {
     "cellMetadata": {},
     "inputWidgets": {},
     "nuid": "b09b6c32-e52a-46a0-8429-0cd65319bf25",
     "showTitle": false,
     "title": ""
    }
   },
   "outputs": [],
   "source": [
    "from pyspark.sql.functions import *\n",
    "df3 = df2.select(\"id\", \"name\", explode(\"hobbies\").alias(\"hobby\"))"
   ]
  },
  {
   "cell_type": "code",
   "execution_count": 0,
   "metadata": {
    "application/vnd.databricks.v1+cell": {
     "cellMetadata": {},
     "inputWidgets": {},
     "nuid": "e3fd161d-b6a3-4369-be28-855b58e104da",
     "showTitle": false,
     "title": ""
    }
   },
   "outputs": [],
   "source": [
    "df3.show()"
   ]
  },
  {
   "cell_type": "code",
   "execution_count": 0,
   "metadata": {
    "application/vnd.databricks.v1+cell": {
     "cellMetadata": {},
     "inputWidgets": {},
     "nuid": "1f962bf6-ccc3-4256-b25b-f1d567342b1b",
     "showTitle": false,
     "title": ""
    }
   },
   "outputs": [],
   "source": [
    "df3 = df2.withColumn(\"newHobby\", explode(\"hobbies\"))\n",
    "df3.show()"
   ]
  },
  {
   "cell_type": "code",
   "execution_count": 0,
   "metadata": {
    "application/vnd.databricks.v1+cell": {
     "cellMetadata": {},
     "inputWidgets": {},
     "nuid": "d66577d0-4a2f-4013-bded-358a60e7a397",
     "showTitle": false,
     "title": ""
    }
   },
   "outputs": [],
   "source": [
    "df4 = df3.withColumn(\"Ingestion Time\", current_timestamp())"
   ]
  },
  {
   "cell_type": "code",
   "execution_count": 0,
   "metadata": {
    "application/vnd.databricks.v1+cell": {
     "cellMetadata": {},
     "inputWidgets": {},
     "nuid": "6bb24f9a-cdf3-4a68-9211-60ad25ebbffd",
     "showTitle": false,
     "title": ""
    }
   },
   "outputs": [],
   "source": [
    "df3.show(truncate = False)"
   ]
  },
  {
   "cell_type": "markdown",
   "metadata": {
    "application/vnd.databricks.v1+cell": {
     "cellMetadata": {},
     "inputWidgets": {},
     "nuid": "7a061587-58f9-4ee0-b058-d1f05be52f7d",
     "showTitle": false,
     "title": ""
    }
   },
   "source": [
    "### Constructors Case Study"
   ]
  },
  {
   "cell_type": "code",
   "execution_count": 0,
   "metadata": {
    "application/vnd.databricks.v1+cell": {
     "cellMetadata": {},
     "inputWidgets": {},
     "nuid": "e446a47b-f675-495d-90f0-012b8d602ace",
     "showTitle": false,
     "title": ""
    }
   },
   "outputs": [],
   "source": [
    "path = \"/home/labuser/Desktop/Python/constructors.json\"\n",
    "df = spark.read.json(path)\n",
    "df.show()"
   ]
  },
  {
   "cell_type": "code",
   "execution_count": 0,
   "metadata": {
    "application/vnd.databricks.v1+cell": {
     "cellMetadata": {},
     "inputWidgets": {},
     "nuid": "7c77b5eb-ddbb-4d4e-ab99-ba6f19da8438",
     "showTitle": false,
     "title": ""
    }
   },
   "outputs": [],
   "source": [
    "df2 = df.withColumn(\"Ingestion Time\", current_timestamp()).withColumn(\"path\", input_file_name()).show()"
   ]
  },
  {
   "cell_type": "code",
   "execution_count": 0,
   "metadata": {
    "application/vnd.databricks.v1+cell": {
     "cellMetadata": {},
     "inputWidgets": {},
     "nuid": "9c579421-70f7-4a34-b985-1e8069593132",
     "showTitle": false,
     "title": ""
    }
   },
   "outputs": [],
   "source": [
    "df_final = df.withColumn(\"Ingestion Time\", current_timestamp()).withColumn(\"path\", input_file_name()).drop(\"url\")"
   ]
  },
  {
   "cell_type": "code",
   "execution_count": 0,
   "metadata": {
    "application/vnd.databricks.v1+cell": {
     "cellMetadata": {},
     "inputWidgets": {},
     "nuid": "ea3e8b30-0566-4d89-8ebc-a8e3c23f0ed9",
     "showTitle": false,
     "title": ""
    }
   },
   "outputs": [],
   "source": [
    "df_final.show()"
   ]
  },
  {
   "cell_type": "code",
   "execution_count": 0,
   "metadata": {
    "application/vnd.databricks.v1+cell": {
     "cellMetadata": {},
     "inputWidgets": {},
     "nuid": "3a99e8a5-bbe6-4b19-b990-6ffcbb7fc520",
     "showTitle": false,
     "title": ""
    }
   },
   "outputs": [],
   "source": [
    "df_final.write.mode(\"overwrite\").parquet(\"/home/labuser/Desktop/Python/Processed Data/Constructor/constructors_parquet\")"
   ]
  },
  {
   "cell_type": "code",
   "execution_count": 0,
   "metadata": {
    "application/vnd.databricks.v1+cell": {
     "cellMetadata": {},
     "inputWidgets": {},
     "nuid": "03ea68f2-c056-44ae-81d1-e83c3b84df5d",
     "showTitle": false,
     "title": ""
    }
   },
   "outputs": [],
   "source": [
    "df_final.write.saveAsTable(\"Constructors\")"
   ]
  },
  {
   "cell_type": "code",
   "execution_count": 0,
   "metadata": {
    "application/vnd.databricks.v1+cell": {
     "cellMetadata": {},
     "inputWidgets": {},
     "nuid": "f18ae243-41fd-4d9b-a66f-5ac1d4ade274",
     "showTitle": false,
     "title": ""
    }
   },
   "outputs": [],
   "source": [
    "df_final.write.option(\"path\", \"/home/labuser/Desktop/Python/Processed Data/Constructor Table\").saveAsTable(\"constructor_table\")"
   ]
  },
  {
   "cell_type": "code",
   "execution_count": 0,
   "metadata": {
    "application/vnd.databricks.v1+cell": {
     "cellMetadata": {},
     "inputWidgets": {},
     "nuid": "40721760-7022-4258-9c7d-205b1b10ccd3",
     "showTitle": false,
     "title": ""
    }
   },
   "outputs": [],
   "source": []
  }
 ],
 "metadata": {
  "application/vnd.databricks.v1+notebook": {
   "dashboards": [],
   "language": "python",
   "notebookMetadata": {},
   "notebookName": "PySpark Day 2",
   "widgets": {}
  },
  "kernelspec": {
   "display_name": "Python 3 (ipykernel)",
   "language": "python",
   "name": "python3"
  },
  "language_info": {
   "codemirror_mode": {
    "name": "ipython",
    "version": 3
   },
   "file_extension": ".py",
   "mimetype": "text/x-python",
   "name": "python",
   "nbconvert_exporter": "python",
   "pygments_lexer": "ipython3",
   "version": "3.11.4"
  }
 },
 "nbformat": 4,
 "nbformat_minor": 0
}
